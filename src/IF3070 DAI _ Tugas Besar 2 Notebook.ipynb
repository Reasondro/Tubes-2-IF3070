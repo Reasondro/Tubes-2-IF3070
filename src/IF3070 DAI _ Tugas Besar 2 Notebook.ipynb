{
 "cells": [
  {
   "cell_type": "markdown",
   "metadata": {
    "id": "uR1JW69eLfG_"
   },
   "source": [
    "# IF3070 Foundations of Artificial Intelligence | Tugas Besar 2\n"
   ]
  },
  {
   "cell_type": "markdown",
   "metadata": {
    "id": "ucbaI5rBLtjJ"
   },
   "source": [
    "Group Number: 38\n",
    "\n",
    "Group Members:\n",
    "- Alessandro Jusack H.      (18222025)\n",
    "- Viktor Arsindiantoro      (18222083)\n",
    "- Matthew Nicholas Gunawan  (18222058)\n",
    "- Daffa Ramadhan Elengi     (1822009)"
   ]
  },
  {
   "cell_type": "markdown",
   "metadata": {
    "id": "GwzsfETHLfHA"
   },
   "source": [
    "## Import Libraries"
   ]
  },
  {
   "cell_type": "code",
   "execution_count": 1,
   "metadata": {
    "id": "jZJU5W_4LfHB"
   },
   "outputs": [],
   "source": [
    "import pandas as pd\n",
    "import numpy as np\n",
    "import plotly.express as px\n",
    "import seaborn as sns\n",
    "import matplotlib.pyplot as plt\n",
    "import scipy.stats as stats\n",
    "from sklearn.preprocessing import LabelEncoder"
   ]
  },
  {
   "cell_type": "markdown",
   "metadata": {
    "id": "OKbjLIdYLfHC"
   },
   "source": [
    "## Import Dataset"
   ]
  },
  {
   "cell_type": "code",
   "execution_count": 389,
   "metadata": {
    "id": "-IWFJ-gdLfHD"
   },
   "outputs": [],
   "source": [
    "# df = pd.read_csv('https://drive.google.com/uc?id=1ZUtiaty9RPXhpz5F2Sy3dFPHF4YIt5iU')\n",
    "df = pd.read_csv('train.csv')\n",
    "df_test = pd.read_csv('test.csv')\n",
    "# df.head()"
   ]
  },
  {
   "cell_type": "markdown",
   "metadata": {
    "id": "gvx-gT3bLfHM"
   },
   "source": [
    "# 1. Split Training Set and Validation Set\n",
    "\n",
    "Splitting the training and validation set works as an early diagnostic towards the performance of the model we train. This is done before the preprocessing steps to **avoid data leakage inbetween the sets**. If you want to use k-fold cross-validation, split the data later and do the cleaning and preprocessing separately for each split.\n",
    "\n",
    "Note: For training, you should use the data contained in the `train` folder given by the TA. The `test` data is only used for kaggle submission."
   ]
  },
  {
   "cell_type": "code",
   "execution_count": 390,
   "metadata": {
    "id": "4yWCUFFBLfHM"
   },
   "outputs": [],
   "source": [
    "from sklearn.model_selection import train_test_split\n",
    "\n",
    "train_set, val_set = train_test_split(df, stratify=df['label'], test_size=0.2, random_state=42)\n",
    "train_set_original = train_set.copy()"
   ]
  },
  {
   "cell_type": "code",
   "execution_count": 391,
   "metadata": {},
   "outputs": [],
   "source": [
    "# import math\n",
    "# train_set_filtered = train_set.select_dtypes(exclude=['object']).copy()\n",
    "# train_set_filtered = train_set_filtered.drop(columns=\"id\")\n",
    "# numeric_cols = [col for col in train_set_filtered.columns if col != 'label']\n",
    "# n_cols = 2  \n",
    "# n_rows = math.ceil(len(numeric_cols) / n_cols)\n",
    "\n",
    "# fig, axes = plt.subplots(n_rows, n_cols, figsize=(17, 5 * n_rows), squeeze=False)\n",
    "\n",
    "# for idx, col in enumerate(numeric_cols):\n",
    "\n",
    "#     row = idx // n_cols\n",
    "#     colpos = idx % n_cols\n",
    "    \n",
    "#     ax = axes[row][colpos]  \n",
    "\n",
    "#     sns.boxplot(\n",
    "#         data=train_set, \n",
    "#         x=\"label\", \n",
    "#         y=col, \n",
    "#         hue=\"label\", \n",
    "#         palette=\"Set2\", \n",
    "#         ax=ax\n",
    "#     )\n",
    "#     ax.set_title(f\"Distribution of '{col}' by label\")\n",
    "    \n",
    "\n",
    "#     ax.get_legend().remove()\n",
    "\n",
    "\n",
    "# for j in range(idx+1, n_rows * n_cols):\n",
    "#     row = j // n_cols\n",
    "#     colpos = j % n_cols\n",
    "#     axes[row][colpos].set_visible(False)\n",
    "\n",
    "# plt.tight_layout()\n",
    "# plt.show()\n",
    "        \n",
    "    "
   ]
  },
  {
   "cell_type": "markdown",
   "metadata": {
    "id": "IC14lmo_LfHN"
   },
   "source": [
    "# 2. Data Cleaning and Preprocessing\n",
    "\n",
    "This step is the first thing to be done once a Data Scientist have grasped a general knowledge of the data. Raw data is **seldom ready for training**, therefore steps need to be taken to clean and format the data for the Machine Learning model to interpret.\n",
    "\n",
    "By performing data cleaning and preprocessing, you ensure that your dataset is ready for model training, leading to more accurate and reliable machine learning results. These steps are essential for transforming raw data into a format that machine learning algorithms can effectively learn from and make predictions.\n",
    "\n",
    "We will give some common methods for you to try, but you only have to **at least implement one method for each process**. For each step that you will do, **please explain the reason why did you do that process. Write it in a markdown cell under the code cell you wrote.**"
   ]
  },
  {
   "cell_type": "markdown",
   "metadata": {
    "id": "p95_A8hSLfHY"
   },
   "source": [
    "## A. Data Cleaning\n",
    "\n",
    "**Data cleaning** is the crucial first step in preparing your dataset for machine learning. Raw data collected from various sources is often messy and may contain errors, missing values, and inconsistencies. Data cleaning involves the following steps:\n",
    "\n",
    "1. **Handling Missing Data:** Identify and address missing values in the dataset. This can include imputing missing values, removing rows or columns with excessive missing data, or using more advanced techniques like interpolation.\n",
    "\n",
    "2. **Dealing with Outliers:** Identify and handle outliers, which are data points significantly different from the rest of the dataset. Outliers can be removed or transformed to improve model performance.\n",
    "\n",
    "3. **Data Validation:** Check for data integrity and consistency. Ensure that data types are correct, categorical variables have consistent labels, and numerical values fall within expected ranges.\n",
    "\n",
    "4. **Removing Duplicates:** Identify and remove duplicate rows, as they can skew the model's training process and evaluation metrics.\n",
    "\n",
    "5. **Feature Engineering**: Create new features or modify existing ones to extract relevant information. This step can involve scaling, normalizing, or encoding features for better model interpretability."
   ]
  },
  {
   "cell_type": "markdown",
   "metadata": {
    "id": "_wruGao9LfHZ"
   },
   "source": [
    "### I. Handling Missing Data\n",
    "\n",
    "Missing data can adversely affect the performance and accuracy of machine learning models. There are several strategies to handle missing data in machine learning:\n",
    "\n",
    "1. **Data Imputation:**\n",
    "\n",
    "    a. **Mean, Median, or Mode Imputation:** For numerical features, you can replace missing values with the mean, median, or mode of the non-missing values in the same feature. This method is simple and often effective when data is missing at random.\n",
    "\n",
    "    b. **Constant Value Imputation:** You can replace missing values with a predefined constant value (e.g., 0) if it makes sense for your dataset and problem.\n",
    "\n",
    "    c. **Imputation Using Predictive Models:** More advanced techniques involve using predictive models to estimate missing values. For example, you can train a regression model to predict missing numerical values or a classification model to predict missing categorical values.\n",
    "\n",
    "2. **Deletion of Missing Data:**\n",
    "\n",
    "    a. **Listwise Deletion:** In cases where the amount of missing data is relatively small, you can simply remove rows with missing values from your dataset. However, this approach can lead to a loss of valuable information.\n",
    "\n",
    "    b. **Column (Feature) Deletion:** If a feature has a large number of missing values and is not critical for your analysis, you can consider removing that feature altogether.\n",
    "\n",
    "3. **Domain-Specific Strategies:**\n",
    "\n",
    "    a. **Domain Knowledge:** In some cases, domain knowledge can guide the imputation process. For example, if you know that missing values are related to a specific condition, you can impute them accordingly.\n",
    "\n",
    "4. **Imputation Libraries:**\n",
    "\n",
    "    a. **Scikit-Learn:** Scikit-Learn provides a `SimpleImputer` class that can handle basic imputation strategies like mean, median, and mode imputation.\n",
    "\n",
    "    b. **Fancyimpute:** Fancyimpute is a Python library that offers more advanced imputation techniques, including matrix factorization, k-nearest neighbors, and deep learning-based methods.\n",
    "\n",
    "The choice of imputation method should be guided by the nature of your data, the amount of missing data, the problem you are trying to solve, and the assumptions you are willing to make."
   ]
  },
  {
   "cell_type": "code",
   "execution_count": 392,
   "metadata": {},
   "outputs": [],
   "source": [
    "from sklearn.base import BaseEstimator, TransformerMixin\n",
    "from sklearn.impute import SimpleImputer\n",
    "\n",
    "class FeatureImputer(BaseEstimator, TransformerMixin):\n",
    "    def __init__(self,\n",
    "                 att=None,\n",
    "                 label_col=\"label\"):\n",
    "        # ? manual input\n",
    "        if att is None:\n",
    "            att = [\n",
    "                \"IsDomainIP\", \"HasObfuscation\", \"IsHTTPS\", \"HasTitle\", \n",
    "                \"HasFavicon\", \"Robots\", \"IsResponsive\", \"HasDescription\", \n",
    "                \"HasExternalFormSubmit\", \"HasSocialNet\", \"HasSubmitButton\", \n",
    "                \"HasHiddenFields\", \"HasPasswordField\", \"Pay\", \"Bank\", \"Crypto\", \n",
    "                \"HasCopyrightInfo\"\n",
    "            ]\n",
    "        self.att = att\n",
    "        self.label_col = label_col\n",
    "        \n",
    "        self.cat_imputer_att = SimpleImputer(strategy='most_frequent')\n",
    "        self.cat_imputer_general = SimpleImputer(strategy='most_frequent')\n",
    "        self.num_imputer = SimpleImputer(strategy='mean')\n",
    "\n",
    "    def fit(self, X, y=None):\n",
    "        X = pd.DataFrame(X).copy()\n",
    "\n",
    "        numeric_cols = X.select_dtypes(include=['float64', 'int64']).columns.tolist()\n",
    "        categorical_cols = X.select_dtypes(include=['object']).columns.tolist()\n",
    "\n",
    "        self.numeric_cols_ = [\n",
    "            col for col in numeric_cols\n",
    "            if (col not in self.att) and (col != self.label_col)\n",
    "        ]\n",
    "        self.cat_cols_general_ = [\n",
    "            col for col in categorical_cols\n",
    "            if col not in self.att\n",
    "        ]\n",
    "        \n",
    "        att_cols_present = [c for c in self.att if c in X.columns]\n",
    "        if att_cols_present:\n",
    "            self.cat_imputer_att.fit(X[att_cols_present])\n",
    "        \n",
    "        if self.numeric_cols_:\n",
    "            self.num_imputer.fit(X[self.numeric_cols_])\n",
    "            \n",
    "        if self.cat_cols_general_:\n",
    "            self.cat_imputer_general.fit(X[self.cat_cols_general_])\n",
    "\n",
    "        return self\n",
    "\n",
    "    def transform(self, X):\n",
    "        X = pd.DataFrame(X).copy()\n",
    "        \n",
    "        #? att column dari vik\n",
    "        att_cols_present = [c for c in self.att if c in X.columns]\n",
    "        if att_cols_present:\n",
    "            X[att_cols_present] = self.cat_imputer_att.transform(X[att_cols_present])\n",
    "        \n",
    "        #? regular numeridcal  columns\n",
    "        if self.numeric_cols_:\n",
    "            X[self.numeric_cols_] = self.num_imputer.transform(X[self.numeric_cols_])\n",
    "        \n",
    "        #? else categorical columns\n",
    "        if self.cat_cols_general_:\n",
    "            cat_cols_present = [c for c in self.cat_cols_general_ if c in X.columns]\n",
    "            if cat_cols_present:\n",
    "                X[cat_cols_present] = self.cat_imputer_general.transform(X[cat_cols_present])\n",
    "        \n",
    "        return X\n"
   ]
  },
  {
   "cell_type": "markdown",
   "metadata": {
    "id": "zgrSMcK75VY_"
   },
   "source": [
    "### II. Dealing with Outliers\n",
    "\n",
    "Outliers are data points that significantly differ from the majority of the data. They can be unusually high or low values that do not fit the pattern of the rest of the dataset. Outliers can significantly impact model performance, so it is important to handle them properly.\n",
    "\n",
    "Some methods to handle outliers:\n",
    "1. **Imputation**: Replace with mean, median, or a boundary value.\n",
    "2. **Clipping**: Cap values to upper and lower limits.\n",
    "3. **Transformation**: Use log, square root, or power transformations to reduce their influence.\n",
    "4. **Model-Based**: Use algorithms robust to outliers (e.g., tree-based models, Huber regression)."
   ]
  },
  {
   "cell_type": "code",
   "execution_count": 393,
   "metadata": {},
   "outputs": [],
   "source": [
    "import numpy as np\n",
    "import pandas as pd\n",
    "from sklearn.base import BaseEstimator, TransformerMixin\n",
    "from sklearn.preprocessing import PowerTransformer\n",
    "\n",
    "class FeatureTransformator(BaseEstimator, TransformerMixin):\n",
    "    def __init__(self, skew_threshold=1.0, target_column='label'):\n",
    "\n",
    "        self.skew_threshold = skew_threshold\n",
    "        self.target_column = target_column\n",
    "        \n",
    "        self.log1p_cols_ = []\n",
    "        self.power_transformers_ = {}\n",
    "\n",
    "    def fit(self, X, y=None):\n",
    "        X = pd.DataFrame(X).copy()\n",
    "        for col in X.select_dtypes(include=[np.number]).columns:\n",
    "            if col == self.target_column:\n",
    "                continue\n",
    "\n",
    "            skewness = X[col].skew()\n",
    "            if abs(skewness) > self.skew_threshold:\n",
    "                if skewness > 0:\n",
    "                    self.log1p_cols_.append(col)\n",
    "                else:\n",
    "                    pt = PowerTransformer(method='yeo-johnson')\n",
    "                    \n",
    "                    pt.fit(X[col].values.reshape(-1, 1))\n",
    "                    \n",
    "                    self.power_transformers_[col] = pt\n",
    "        \n",
    "        return self\n",
    "\n",
    "    def transform(self, X):\n",
    "        X = pd.DataFrame(X).copy()\n",
    "        \n",
    "        for col in self.log1p_cols_:\n",
    "            if col in X.columns:\n",
    "                X[col] = np.log1p(X[col])\n",
    "\n",
    "        for col, pt in self.power_transformers_.items():\n",
    "            if col in X.columns:\n",
    "                X[col] = pt.transform(X[col].values.reshape(-1, 1)).flatten()\n",
    "\n",
    "        return X\n"
   ]
  },
  {
   "cell_type": "markdown",
   "metadata": {
    "id": "aO0ZEZ-s6Lu-"
   },
   "source": [
    "### III. Remove Duplicates\n",
    "Handling duplicate values is crucial because they can compromise data integrity, leading to inaccurate analysis and insights. Duplicate entries can bias machine learning models, causing overfitting and reducing their ability to generalize to new data. They also inflate the dataset size unnecessarily, increasing computational costs and processing times. Additionally, duplicates can distort statistical measures and lead to inconsistencies, ultimately affecting the reliability of data-driven decisions and reporting. Ensuring data quality by removing duplicates is essential for accurate, efficient, and consistent analysis."
   ]
  },
  {
   "cell_type": "code",
   "execution_count": 394,
   "metadata": {},
   "outputs": [],
   "source": [
    "import pandas as pd\n",
    "from sklearn.base import BaseEstimator, TransformerMixin\n",
    "\n",
    "class DuplicateRemover(BaseEstimator, TransformerMixin):\n",
    "    def __init__(self, verbose=False):\n",
    "        self.verbose = verbose\n",
    "\n",
    "    def fit(self, X, y=None):\n",
    "        return self\n",
    "\n",
    "    def transform(self, X):\n",
    "        X = X.copy()\n",
    "        \n",
    "        before_len = len(X)\n",
    "        X.drop_duplicates(inplace=True)\n",
    "        after_len = len(X)\n",
    "        X.reset_index(drop=True, inplace=True)\n",
    "\n",
    "        if self.verbose:\n",
    "            print(f\"Before dropping duplicates: {before_len}\")\n",
    "            print(f\"After dropping duplicates:  {after_len}\")\n",
    "\n",
    "        return X\n"
   ]
  },
  {
   "cell_type": "markdown",
   "metadata": {
    "id": "eycPASmMLfHa"
   },
   "source": [
    "### IV. Feature Engineering\n",
    "\n",
    "**Feature engineering** involves creating new features (input variables) or transforming existing ones to improve the performance of machine learning models. Feature engineering aims to enhance the model's ability to learn patterns and make accurate predictions from the data. It's often said that \"good features make good models.\"\n",
    "\n",
    "1. **Feature Selection:** Feature engineering can involve selecting the most relevant and informative features from the dataset. Removing irrelevant or redundant features not only simplifies the model but also reduces the risk of overfitting.\n",
    "\n",
    "2. **Creating New Features:** Sometimes, the existing features may not capture the underlying patterns effectively. In such cases, engineers create new features that provide additional information. For example:\n",
    "   \n",
    "   - **Polynomial Features:** Engineers may create new features by taking the square, cube, or other higher-order terms of existing numerical features. This can help capture nonlinear relationships.\n",
    "   \n",
    "   - **Interaction Features:** Interaction features are created by combining two or more existing features. For example, if you have features \"length\" and \"width,\" you can create an \"area\" feature by multiplying them.\n",
    "\n",
    "3. **Binning or Discretization:** Continuous numerical features can be divided into bins or categories. For instance, age values can be grouped into bins like \"child,\" \"adult,\" and \"senior.\"\n",
    "\n",
    "4. **Domain-Specific Feature Engineering:** Depending on the domain and problem, engineers may create domain-specific features. For example, in fraud detection, features related to transaction history and user behavior may be engineered to identify anomalies.\n",
    "\n",
    "Feature engineering is both a creative and iterative process. It requires a deep understanding of the data, domain knowledge, and experimentation to determine which features will enhance the model's predictive power."
   ]
  },
  {
   "cell_type": "code",
   "execution_count": 395,
   "metadata": {},
   "outputs": [],
   "source": [
    "import numpy as np\n",
    "import pandas as pd\n",
    "from sklearn.base import BaseEstimator, TransformerMixin\n",
    "\n",
    "class FeatureCreator(BaseEstimator, TransformerMixin):\n",
    "    def __init__(self, domain_weight=0.6, url_weight=0.4):\n",
    "        self.domain_weight = domain_weight\n",
    "        self.url_weight = url_weight\n",
    "\n",
    "    def fit(self, X, y=None):\n",
    "        return self\n",
    "\n",
    "    def transform(self, X):\n",
    "        X = X.copy()\n",
    "        \n",
    "        #? total resources\n",
    "        X['resources'] = (\n",
    "            X['NoOfImage'] + X['NoOfCSS'] + X['NoOfJS'] +\n",
    "            X['NoOfSelfRef'] + X['NoOfEmptyRef'] + X['NoOfExternalRef']\n",
    "        )\n",
    "\n",
    "        #? feature securing stuffs\n",
    "        X['IsHTTPS'] = X['IsHTTPS'].astype(int)\n",
    "        X['Robots']  = X['Robots'].astype(int)\n",
    "\n",
    "        conditions = [\n",
    "            (X['IsHTTPS'] == 1) & (X['Robots'] == 1),\n",
    "            (X['IsHTTPS'] == 1) & (X['Robots'] == 0),\n",
    "            (X['IsHTTPS'] == 0) & (X['Robots'] == 1),\n",
    "            (X['IsHTTPS'] == 0) & (X['Robots'] == 0),\n",
    "        ]\n",
    "        risks = [3, 2, 1, 0]\n",
    "        X['isHighRisk'] = np.select(conditions, risks)\n",
    "\n",
    "        # ? non-phishing features\n",
    "        X['Non_Phising'] = (\n",
    "            X['IsResponsive'] + \n",
    "            X['HasDescription'] + \n",
    "            X['HasSocialNet'] + \n",
    "            X['HasCopyrightInfo']\n",
    "        )\n",
    "\n",
    "        #? weighted score\n",
    "        X['WeightedScore'] = (\n",
    "            self.domain_weight * X['DomainTitleMatchScore'] + \n",
    "            self.url_weight * X['URLTitleMatchScore']\n",
    "        )\n",
    "\n",
    "        #? digit and special char ratio\n",
    "        X['DigitAndSpecialCharRatio'] = (\n",
    "            (X['NoOfDegitsInURL'] + X['NoOfOtherSpecialCharsInURL']) / X['URLLength']\n",
    "        )\n",
    "\n",
    "        #? digit ratio by special char ratio\n",
    "        X['digit_special_mult'] = (\n",
    "            X['DegitRatioInURL'] * X['SpacialCharRatioInURL']\n",
    "        )\n",
    "\n",
    "        #? is_https_line_interaction\n",
    "        X['is_https_line_interaction'] = (\n",
    "            X['IsHTTPS'] * np.log(X['LineOfCode'] + 1)\n",
    "        )\n",
    "\n",
    "        return X\n"
   ]
  },
  {
   "cell_type": "code",
   "execution_count": 396,
   "metadata": {},
   "outputs": [],
   "source": [
    "import pandas as pd\n",
    "from sklearn.base import BaseEstimator, TransformerMixin\n",
    "\n",
    "class FeatureSelector(BaseEstimator, TransformerMixin):\n",
    "    def __init__(self):\n",
    "        self.columns_to_drop = [\n",
    "            \"id\", \"IsDomainIP\", \"TLDLength\", \"NoOfSubDomain\", \"HasObfuscation\",\n",
    "            \"NoOfObfuscatedChar\", \"ObfuscationRatio\", \"NoOfAmpersandInURL\",\n",
    "            \"NoOfURLRedirect\", \"NoOfSelfRedirect\", \"NoOfPopup\", \"HasExternalFormSubmit\",\n",
    "            \"HasPasswordField\", \"Bank\", \"Crypto\", \"TLDLegitimateProb\", \"DomainLength\",\n",
    "            \"NoOfEqualsInURL\", \"NoOfQMarkInURL\", \"FILENAME\",\"URL\", \"Domain\", \"Title\"\n",
    "        ]\n",
    "    \n",
    "    def fit(self, X, y=None):\n",
    "    \n",
    "        return self\n",
    "\n",
    "    def transform(self, X):\n",
    "        return X.drop(columns=self.columns_to_drop, axis=1)\n"
   ]
  },
  {
   "cell_type": "code",
   "execution_count": 397,
   "metadata": {},
   "outputs": [],
   "source": [
    "import pandas as pd\n",
    "from sklearn.base import BaseEstimator, TransformerMixin\n",
    "\n",
    "class FeatureObjectDropper(BaseEstimator, TransformerMixin):\n",
    "    def fit(self, X, y=None):\n",
    "        return self\n",
    "\n",
    "    def transform(self, X):\n",
    "        X = X.copy()\n",
    "        object_cols = X.select_dtypes(include=['object']).columns\n",
    "        \n",
    "        X = X.drop(columns=object_cols, axis=1)\n",
    "        \n",
    "        return X\n"
   ]
  },
  {
   "cell_type": "markdown",
   "metadata": {
    "id": "xw11_49xLfHb"
   },
   "source": [
    "## B. Data Preprocessing\n",
    "\n",
    "**Data preprocessing** is a broader step that encompasses both data cleaning and additional transformations to make the data suitable for machine learning algorithms. Its primary goals are:\n",
    "\n",
    "1. **Feature Scaling:** Ensure that numerical features have similar scales. Common techniques include Min-Max scaling (scaling to a specific range) or standardization (mean-centered, unit variance).\n",
    "\n",
    "2. **Encoding Categorical Variables:** Machine learning models typically work with numerical data, so categorical variables need to be encoded. This can be done using one-hot encoding, label encoding, or more advanced methods like target encoding.\n",
    "\n",
    "3. **Handling Imbalanced Classes:** If dealing with imbalanced classes in a binary classification task, apply techniques such as oversampling, undersampling, or using different evaluation metrics to address class imbalance.\n",
    "\n",
    "4. **Dimensionality Reduction:** Reduce the number of features using techniques like Principal Component Analysis (PCA) or feature selection to simplify the model and potentially improve its performance.\n",
    "\n",
    "5. **Normalization:** Normalize data to achieve a standard distribution. This is particularly important for algorithms that assume normally distributed data."
   ]
  },
  {
   "cell_type": "markdown",
   "metadata": {
    "id": "WhCgOl4xLfHb"
   },
   "source": [
    "### I. Feature Scaling\n",
    "\n",
    "**Feature scaling** is a preprocessing technique used in machine learning to standardize the range of independent variables or features of data. The primary goal of feature scaling is to ensure that all features contribute equally to the training process and that machine learning algorithms can work effectively with the data.\n",
    "\n",
    "Here are the main reasons why feature scaling is important:\n",
    "\n",
    "1. **Algorithm Sensitivity:** Many machine learning algorithms are sensitive to the scale of input features. If the scales of features are significantly different, some algorithms may perform poorly or take much longer to converge.\n",
    "\n",
    "2. **Distance-Based Algorithms:** Algorithms that rely on distances or similarities between data points, such as k-nearest neighbors (KNN) and support vector machines (SVM), can be influenced by feature scales. Features with larger scales may dominate the distance calculations.\n",
    "\n",
    "3. **Regularization:** Regularization techniques, like L1 (Lasso) and L2 (Ridge) regularization, add penalty terms based on feature coefficients. Scaling ensures that all features are treated equally in the regularization process.\n",
    "\n",
    "Common methods for feature scaling include:\n",
    "\n",
    "1. **Min-Max Scaling (Normalization):** This method scales features to a specific range, typically [0, 1]. It's done using the following formula:\n",
    "\n",
    "   $$X' = \\frac{X - X_{min}}{X_{max} - X_{min}}$$\n",
    "\n",
    "   - Here, $X$ is the original feature value, $X_{min}$ is the minimum value of the feature, and $X_{max}$ is the maximum value of the feature.  \n",
    "<br />\n",
    "<br />\n",
    "2. **Standardization (Z-score Scaling):** This method scales features to have a mean (average) of 0 and a standard deviation of 1. It's done using the following formula:\n",
    "\n",
    "   $$X' = \\frac{X - \\mu}{\\sigma}$$\n",
    "\n",
    "   - $X$ is the original feature value, $\\mu$ is the mean of the feature, and $\\sigma$ is the standard deviation of the feature.  \n",
    "<br />\n",
    "<br />\n",
    "3. **Robust Scaling:** Robust scaling is a method that scales features to the interquartile range (IQR) and is less affected by outliers. It's calculated as:\n",
    "\n",
    "   $$X' = \\frac{X - Q1}{Q3 - Q1}$$\n",
    "\n",
    "   - $X$ is the original feature value, $Q1$ is the first quartile (25th percentile), and $Q3$ is the third quartile (75th percentile) of the feature.  \n",
    "<br />\n",
    "<br />\n",
    "4. **Log Transformation:** In cases where data is highly skewed or has a heavy-tailed distribution, taking the logarithm of the feature values can help stabilize the variance and improve scaling.\n",
    "\n",
    "The choice of scaling method depends on the characteristics of your data and the requirements of your machine learning algorithm. **Min-max scaling and standardization are the most commonly used techniques and work well for many datasets.**\n",
    "\n",
    "Scaling should be applied separately to each training and test set to prevent data leakage from the test set into the training set. Additionally, **some algorithms may not require feature scaling, particularly tree-based models.**"
   ]
  },
  {
   "cell_type": "code",
   "execution_count": 398,
   "metadata": {},
   "outputs": [],
   "source": [
    "import pandas as pd\n",
    "import numpy as np\n",
    "from sklearn.base import BaseEstimator, TransformerMixin\n",
    "from sklearn.preprocessing import RobustScaler\n",
    "\n",
    "class FeatureScaler(BaseEstimator, TransformerMixin):\n",
    "    def __init__(self, columns=None, \n",
    "                 outlier_threshold=5.0, \n",
    "                 label_col='label'):\n",
    "        self.columns = columns\n",
    "        self.outlier_threshold = outlier_threshold\n",
    "        self.label_col = label_col\n",
    "        self.scaler = RobustScaler()\n",
    "        \n",
    "    def _check_outliers_iqr(self, df, col):\n",
    "        col_Q1 = df[col].quantile(0.25)\n",
    "        col_Q3 = df[col].quantile(0.75)\n",
    "        col_IQR = col_Q3 - col_Q1\n",
    "        \n",
    "        col_RLB = col_Q1 - 1.5 * col_IQR \n",
    "        col_RUB = col_Q3 + 1.5 * col_IQR  \n",
    "        \n",
    "        outliers_count = df.loc[(df[col] < col_RLB) | (df[col] > col_RUB), col].shape[0]\n",
    "        outlier_percent = outliers_count / len(df) * 100.0\n",
    "        \n",
    "        return outlier_percent\n",
    "    \n",
    "    def fit(self, X, y=None):\n",
    "        X = pd.DataFrame(X).copy()\n",
    "\n",
    "        if self.columns is not None:\n",
    "            self.columns_ = self.columns\n",
    "        \n",
    "        else:\n",
    "            numeric_cols = X.select_dtypes(include=['float64', 'int64']).columns.tolist()\n",
    "            numeric_cols = [col for col in numeric_cols if col != self.label_col]\n",
    "            \n",
    "            self.columns_ = []\n",
    "            for col in numeric_cols:\n",
    "                outlier_percent = self._check_outliers_iqr(X, col)\n",
    "                if outlier_percent > self.outlier_threshold:\n",
    "                    self.columns_.append(col)\n",
    "        \n",
    "        if self.columns_:\n",
    "            self.scaler.fit(X[self.columns_])\n",
    "        \n",
    "        return self\n",
    "\n",
    "    def transform(self, X):\n",
    "        X = pd.DataFrame(X).copy()\n",
    "        \n",
    "        if self.columns_:\n",
    "            X[self.columns_] = self.scaler.transform(X[self.columns_])\n",
    "        \n",
    "        return X\n"
   ]
  },
  {
   "cell_type": "markdown",
   "metadata": {
    "id": "f_Lh-4JwLfHc"
   },
   "source": [
    "### II. Feature Encoding\n",
    "\n",
    "**Feature encoding**, also known as **categorical encoding**, is the process of converting categorical data (non-numeric data) into a numerical format so that it can be used as input for machine learning algorithms. Most machine learning models require numerical data for training and prediction, so feature encoding is a critical step in data preprocessing.\n",
    "\n",
    "Categorical data can take various forms, including:\n",
    "\n",
    "1. **Nominal Data:** Categories with no intrinsic order, like colors or country names.  \n",
    "\n",
    "2. **Ordinal Data:** Categories with a meaningful order but not necessarily equidistant, like education levels (e.g., \"high school,\" \"bachelor's,\" \"master's\").\n",
    "\n",
    "There are several common methods for encoding categorical data:\n",
    "\n",
    "1. **Label Encoding:**\n",
    "\n",
    "   - Label encoding assigns a unique integer to each category in a feature.\n",
    "   - It's suitable for ordinal data where there's a clear order among categories.\n",
    "   - For example, if you have an \"education\" feature with values \"high school,\" \"bachelor's,\" and \"master's,\" you can encode them as 0, 1, and 2, respectively.\n",
    "<br />\n",
    "<br />\n",
    "2. **One-Hot Encoding:**\n",
    "\n",
    "   - One-hot encoding creates a binary (0 or 1) column for each category in a nominal feature.\n",
    "   - It's suitable for nominal data where there's no inherent order among categories.\n",
    "   - Each category becomes a new feature, and the presence (1) or absence (0) of a category is indicated for each row.\n",
    "<br />\n",
    "<br />\n",
    "3. **Target Encoding (Mean Encoding):**\n",
    "\n",
    "   - Target encoding replaces each category with the mean of the target variable for that category.\n",
    "   - It's often used for classification problems."
   ]
  },
  {
   "cell_type": "code",
   "execution_count": 399,
   "metadata": {
    "id": "psElSUugLfHc"
   },
   "outputs": [],
   "source": [
    "import pandas as pd\n",
    "from sklearn.base import BaseEstimator, TransformerMixin\n",
    "\n",
    "class FeatureEncoder(BaseEstimator, TransformerMixin):\n",
    "    def __init__(self, \n",
    "                 top_n=4, \n",
    "                 target_column='TLD'):\n",
    "        self.top_n = top_n\n",
    "        self.target_column = target_column\n",
    "\n",
    "    def fit(self, X, y=None):\n",
    "        X = pd.DataFrame(X).copy()\n",
    "\n",
    "        if self.target_column in X.columns:\n",
    "            counts = X[self.target_column].value_counts()\n",
    "            self.top_values_ = set(counts.index[:self.top_n])\n",
    "        else:\n",
    "            self.top_values_ = set()\n",
    "\n",
    "        return self\n",
    "\n",
    "    def transform(self, X):\n",
    "        \"\"\"\n",
    "        1) Lump values outside the top N into 'else' for the target_column.\n",
    "        2) One-hot encode all object columns.\n",
    "        \"\"\"\n",
    "        X_encoded = pd.DataFrame(X).copy()\n",
    "\n",
    "        if self.target_column in X_encoded.columns:\n",
    "            X_encoded[self.target_column] = X_encoded[self.target_column].apply(\n",
    "                lambda x: x if x in self.top_values_ else \"else\"\n",
    "            )\n",
    "\n",
    "        cat_cols = X_encoded.select_dtypes(include=['object']).columns\n",
    "\n",
    "        for col in cat_cols:\n",
    "            one_hot = pd.get_dummies(X_encoded[col], prefix=col, dtype=int)\n",
    "            X_encoded = pd.concat([X_encoded, one_hot], axis=1)\n",
    "            X_encoded.drop(col, axis=1, inplace=True)\n",
    "\n",
    "        return X_encoded\n"
   ]
  },
  {
   "cell_type": "markdown",
   "metadata": {
    "id": "jKQO9wtB8Pc0"
   },
   "source": [
    "### III. Handling Imbalanced Dataset\n",
    "\n",
    "**Handling imbalanced datasets** is important because imbalanced data can lead to several issues that negatively impact the performance and reliability of machine learning models. Here are some key reasons:\n",
    "\n",
    "1. **Biased Model Performance**:\n",
    "\n",
    " - Models trained on imbalanced data tend to be biased towards the majority class, leading to poor performance on the minority class. This can result in misleading accuracy metrics.\n",
    "\n",
    "2. **Misleading Accuracy**:\n",
    "\n",
    " - High overall accuracy can be misleading in imbalanced datasets. For example, if 95% of the data belongs to one class, a model that always predicts the majority class will have 95% accuracy but will fail to identify the minority class.\n",
    "\n",
    "3. **Poor Generalization**:\n",
    "\n",
    " - Models trained on imbalanced data may not generalize well to new, unseen data, especially if the minority class is underrepresented.\n",
    "\n",
    "\n",
    "Some methods to handle imbalanced datasets:\n",
    "1. **Resampling Methods**:\n",
    "\n",
    " - Oversampling: Increase the number of instances in the minority class by duplicating or generating synthetic samples (e.g., SMOTE).\n",
    " - Undersampling: Reduce the number of instances in the majority class to balance the dataset.\n",
    "\n",
    "2. **Evaluation Metrics**:\n",
    "\n",
    " - Use appropriate evaluation metrics such as precision, recall, F1-score, ROC-AUC, and confusion matrix instead of accuracy to better assess model performance on imbalanced data.\n",
    "\n",
    "3. **Algorithmic Approaches**:\n",
    "\n",
    " - Use algorithms that are designed to handle imbalanced data, such as decision trees, random forests, or ensemble methods.\n",
    " - Adjust class weights in algorithms to give more importance to the minority class."
   ]
  },
  {
   "cell_type": "code",
   "execution_count": 400,
   "metadata": {},
   "outputs": [],
   "source": [
    "from sklearn.model_selection import train_test_split\n",
    "from sklearn.neighbors import KNeighborsClassifier\n",
    "from sklearn.metrics import accuracy_score, f1_score, recall_score, cohen_kappa_score, balanced_accuracy_score, classification_report\n",
    "from imblearn.over_sampling import SMOTE\n",
    "from imblearn.combine import SMOTEENN\n",
    "from imblearn.combine import SMOTETomek"
   ]
  },
  {
   "cell_type": "code",
   "execution_count": 401,
   "metadata": {
    "id": "u2BQd2XJ9W1i"
   },
   "outputs": [],
   "source": [
    "def my_smote(X_before, y_before):\n",
    "    smote = SMOTE(random_state=42)\n",
    "    X_after, y_after = smote.fit_resample(X_before, y_before)\n",
    "    return X_after, y_after\n",
    "\n",
    "def my_smotenn(X_before, y_before):\n",
    "    smotenn = SMOTEENN(random_state=42)\n",
    "    X_after, y_after = smotenn.fit_resample(X_before, y_before)\n",
    "    return X_after, y_after\n",
    "\n",
    "def my_smotetomek(X_before, y_before):\n",
    "    smotetomek = SMOTETomek(random_state=42)\n",
    "    X_after, y_after = smotetomek.fit_resample(X_before, y_before)\n",
    "    return X_after, y_after\n"
   ]
  },
  {
   "cell_type": "markdown",
   "metadata": {
    "id": "-ctVzt5DLfHd"
   },
   "source": [
    "# 3. Compile Preprocessing Pipeline\n",
    "\n",
    "All of the preprocessing classes or functions defined earlier will be compiled in this step."
   ]
  },
  {
   "cell_type": "markdown",
   "metadata": {
    "id": "S_ZlncSVjJG6"
   },
   "source": [
    "If you use sklearn to create preprocessing classes, you can list your preprocessing classes in the Pipeline object sequentially, and then fit and transform your data."
   ]
  },
  {
   "cell_type": "code",
   "execution_count": 402,
   "metadata": {
    "id": "jHraoW_7LfHd"
   },
   "outputs": [],
   "source": [
    "from sklearn.pipeline import Pipeline\n",
    "\n",
    "\n",
    "pipe = Pipeline([\n",
    "                 (\"feature_imputer\", FeatureImputer()),\n",
    "                 (\"duplicate_remover\", DuplicateRemover()),\n",
    "                 (\"feature_selector\", FeatureSelector()),\n",
    "                 (\"encoder\", FeatureEncoder()),\n",
    "                 (\"feature_object_dropper\", FeatureObjectDropper()),\n",
    "                 (\"feature_creator\", FeatureCreator()),\n",
    "                 (\"feature_transformator\", FeatureTransformator()),\n",
    "                 (\"feature_scaler\", FeatureScaler()),\n",
    "                 ])\n",
    "\n"
   ]
  },
  {
   "cell_type": "code",
   "execution_count": 403,
   "metadata": {
    "id": "9s56aFFxLfHd"
   },
   "outputs": [],
   "source": [
    "train_set = pipe.fit_transform(train_set)\n",
    "val_set = pipe.transform(val_set)"
   ]
  },
  {
   "cell_type": "markdown",
   "metadata": {
    "id": "9A3adbZXLfHe"
   },
   "source": [
    "# 4. Modeling and Validation\n",
    "\n",
    "Modelling is the process of building your own machine learning models to solve specific problems, or in this assignment context, predicting the target feature `label`. Validation is the process of evaluating your trained model using the validation set or cross-validation method and providing some metrics that can help you decide what to do in the next iteration of development."
   ]
  },
  {
   "cell_type": "code",
   "execution_count": 404,
   "metadata": {},
   "outputs": [],
   "source": [
    "X_train = train_set.drop(columns=[\"label\"])\n",
    "y_train = train_set['label']\n"
   ]
  },
  {
   "cell_type": "code",
   "execution_count": 405,
   "metadata": {},
   "outputs": [],
   "source": [
    "X_val= val_set.drop(columns=[\"label\"])\n",
    "y_val = val_set['label']"
   ]
  },
  {
   "cell_type": "code",
   "execution_count": 406,
   "metadata": {},
   "outputs": [],
   "source": [
    "X_train, y_train = my_smote(X_train, y_train)\n",
    "\n",
    "# ? bawah tuh train buat si val_set (dipisahin takutny ada kenapa-kenapa pas digabung bareng si tes)\n",
    "X_train_temp = X_train.copy()\n",
    "y_train_temp = y_train.copy()\n"
   ]
  },
  {
   "cell_type": "markdown",
   "metadata": {
    "id": "ZnhMNbBILfHf"
   },
   "source": [
    "## A. KNN"
   ]
  },
  {
   "cell_type": "code",
   "execution_count": 407,
   "metadata": {
    "id": "KV6ICmFmlqjk"
   },
   "outputs": [],
   "source": [
    "# INI DRI LIBRARY\n",
    "from sklearn.neighbors import KNeighborsClassifier\n",
    "knn = KNeighborsClassifier(n_neighbors=1)\n",
    "knn.fit(X_train, y_train)\n",
    "knn_pred = knn.predict(X_val)"
   ]
  },
  {
   "cell_type": "code",
   "execution_count": 408,
   "metadata": {},
   "outputs": [
    {
     "name": "stdout",
     "output_type": "stream",
     "text": [
      "Accuracy: 0.9924148000427335\n",
      "F1 Score: 0.9924287680819363\n",
      "Recall Score: 0.9924148000427335\n",
      "Balanced Accuracy: 0.9745741588288203\n",
      "KNeighbors Classifier from libary\n",
      "              precision    recall  f1-score   support\n",
      "\n",
      "           0       0.95      0.95      0.95      2111\n",
      "           1       1.00      1.00      1.00     25970\n",
      "\n",
      "    accuracy                           0.99     28081\n",
      "   macro avg       0.97      0.97      0.97     28081\n",
      "weighted avg       0.99      0.99      0.99     28081\n",
      "\n",
      "\n"
     ]
    }
   ],
   "source": [
    "from sklearn.metrics import accuracy_score, f1_score, recall_score, cohen_kappa_score, balanced_accuracy_score, classification_report\n",
    "print(f'Accuracy: {accuracy_score(y_val, knn_pred)}')\n",
    "print(f'F1 Score: {f1_score(y_val, knn_pred, average=\"weighted\")}')\n",
    "print(f'Recall Score: {recall_score(y_val, knn_pred, average=\"weighted\")}')\n",
    "print(f\"Balanced Accuracy: {balanced_accuracy_score(y_val, knn_pred)}\")\n",
    "print(\"KNeighbors Classifier from libary\")\n",
    "print(classification_report(y_val, knn_pred))\n",
    "print()"
   ]
  },
  {
   "cell_type": "code",
   "execution_count": 409,
   "metadata": {},
   "outputs": [],
   "source": [
    "# ? new (jan hapus yang atas, buat referensi)\n",
    "class KNearestNeighbors:\n",
    "    def __init__(self, k=3, distance='euclidean', p=2):\n",
    "        self.k = k\n",
    "        self.distance = distance\n",
    "        self.p = p\n",
    "        self.X_train = None\n",
    "        self.y_train = None\n",
    "    \n",
    "    def fit(self, X, y):\n",
    "        self.X_train = np.array(X)\n",
    "        self.y_train = np.array(y)\n",
    "\n",
    "    def _compute_distance(self, x_new):\n",
    "        if self.distance == 'euclidean':\n",
    "            distances = np.sqrt(np.sum((self.X_train - x_new) ** 2, axis=1))\n",
    "        elif self.distance == 'manhattan':\n",
    "            distances = np.sum(np.abs(self.X_train - x_new), axis=1)\n",
    "        elif self.distance == 'minkowski':\n",
    "            distances = np.sum(np.abs(self.X_train - x_new) ** self.p, axis=1) ** (1 / self.p)\n",
    "        else:\n",
    "            raise ValueError(\"Pilih 'euclidean', 'manhattan', atau 'minkowski'.\")\n",
    "        \n",
    "        return distances\n",
    "    \n",
    "    def predict(self, X):\n",
    "        X = np.array(X)\n",
    "        y_pred = []\n",
    "        \n",
    "        for x_new in X:\n",
    "            distances = self._compute_distance(x_new)\n",
    "            nearest_indices = np.argsort(distances)[:self.k]\n",
    "            nearest_labels = self.y_train[nearest_indices]\n",
    "            labels, counts = np.unique(nearest_labels, return_counts=True)\n",
    "            majority_label = labels[np.argmax(counts)]\n",
    "            \n",
    "            y_pred.append(majority_label)\n",
    "        \n",
    "        return np.array(y_pred)"
   ]
  },
  {
   "cell_type": "code",
   "execution_count": 410,
   "metadata": {},
   "outputs": [],
   "source": [
    "# ? buat val set\n",
    "knn = KNearestNeighbors(k = 3)\n",
    "knn.fit(X_train, y_train)\n",
    "knn_pred = knn.predict(X_val)"
   ]
  },
  {
   "cell_type": "code",
   "execution_count": 411,
   "metadata": {},
   "outputs": [
    {
     "name": "stdout",
     "output_type": "stream",
     "text": [
      "Accuracy: 0.9910615718813433\n",
      "F1 Score: 0.991148023940163\n",
      "Recall Score: 0.9910615718813433\n",
      "Balanced Accuracy: 0.9777593739961954\n",
      "KNeighbors Classifier from scratch\n",
      "              precision    recall  f1-score   support\n",
      "\n",
      "           0       0.92      0.96      0.94      2111\n",
      "           1       1.00      0.99      1.00     25970\n",
      "\n",
      "    accuracy                           0.99     28081\n",
      "   macro avg       0.96      0.98      0.97     28081\n",
      "weighted avg       0.99      0.99      0.99     28081\n",
      "\n"
     ]
    }
   ],
   "source": [
    "print(f'Accuracy: {accuracy_score(y_val, knn_pred)}')\n",
    "print(f'F1 Score: {f1_score(y_val, knn_pred, average=\"weighted\")}')\n",
    "print(f'Recall Score: {recall_score(y_val, knn_pred, average=\"weighted\")}')\n",
    "print(f\"Balanced Accuracy: {balanced_accuracy_score(y_val, knn_pred)}\")\n",
    "print(\"KNeighbors Classifier from scratch\")\n",
    "\n",
    "print(classification_report(y_val, knn_pred))"
   ]
  },
  {
   "cell_type": "markdown",
   "metadata": {
    "id": "nW0bMzkDLfHf"
   },
   "source": [
    "## B. Naive Bayes"
   ]
  },
  {
   "cell_type": "code",
   "execution_count": 412,
   "metadata": {},
   "outputs": [
    {
     "name": "stdout",
     "output_type": "stream",
     "text": [
      "Accuracy: 0.984544709946227\n",
      "F1 Score: 0.9849065717648015\n",
      "Recall Score: 0.984544709946227\n",
      "Balanced Accuracy: 0.9692312413824427\n",
      "Gaussian Naive Bayes with library\n",
      "              precision    recall  f1-score   support\n",
      "\n",
      "           0       0.86      0.95      0.90      2111\n",
      "           1       1.00      0.99      0.99     25970\n",
      "\n",
      "    accuracy                           0.98     28081\n",
      "   macro avg       0.93      0.97      0.95     28081\n",
      "weighted avg       0.99      0.98      0.98     28081\n",
      "\n"
     ]
    }
   ],
   "source": [
    "from sklearn.naive_bayes import GaussianNB\n",
    "\n",
    "\n",
    "gnb_lib = GaussianNB()\n",
    "\n",
    "\n",
    "gnb_lib.fit(X_train, y_train)\n",
    "\n",
    "\n",
    "gnb_lib_pred = gnb_lib.predict(X_val)\n",
    "\n",
    "\n",
    "print(f'Accuracy: {accuracy_score(y_val, gnb_lib_pred)}')\n",
    "print(f'F1 Score: {f1_score(y_val, gnb_lib_pred, average=\"weighted\")}')\n",
    "print(f'Recall Score: {recall_score(y_val, gnb_lib_pred, average=\"weighted\")}')\n",
    "print(f\"Balanced Accuracy: {balanced_accuracy_score(y_val, gnb_lib_pred)}\")\n",
    "print(\"Gaussian Naive Bayes with library\")\n",
    "print(classification_report(y_val, gnb_lib_pred))"
   ]
  },
  {
   "cell_type": "code",
   "execution_count": 413,
   "metadata": {
    "id": "C_XwsN_-LfHg"
   },
   "outputs": [],
   "source": [
    "import numpy as np\n",
    "import pandas as pd\n",
    "\n",
    "class GaussianNaiveBayes:\n",
    "    def __init__(self):\n",
    "        self.classes_ = None\n",
    "        self.priors_ = {}\n",
    "        self.means_ = {}\n",
    "        self.vars_ = {}\n",
    "    \n",
    "    def fit(self, X, y):\n",
    "        if isinstance(X, pd.DataFrame):\n",
    "            X = X.values\n",
    "        if isinstance(y, pd.Series):\n",
    "            y = y.values\n",
    "        \n",
    "        self.classes_ = np.unique(y)\n",
    "        \n",
    "        for cls in self.classes_:\n",
    "            X_cls = X[y == cls]\n",
    "            self.priors_[cls] = X_cls.shape[0] / X.shape[0]\n",
    "            self.means_[cls] = np.mean(X_cls, axis=0)\n",
    "            self.vars_[cls] = np.var(X_cls, axis=0) + 1e-9\n",
    "    \n",
    "    def _pdf(self, x, mean, var):\n",
    "        coeff = 1.0 / np.sqrt(2.0 * np.pi * var)\n",
    "        exponent = np.exp(- (x - mean)**2 / (2 * var))\n",
    "        return coeff * exponent\n",
    "    \n",
    "    def _class_likelihood(self, x):\n",
    "\n",
    "        posteriors = {}\n",
    "        for cls in self.classes_:\n",
    "            prior = np.log(self.priors_[cls])  \n",
    "            pdf_vals = self._pdf(x, self.means_[cls], self.vars_[cls])\n",
    "            pdf_vals_clipped = np.clip(pdf_vals, 1e-15, None)\n",
    "            likelihoods = np.sum(np.log(pdf_vals_clipped))\n",
    "            posterior = prior + likelihoods\n",
    "            posteriors[cls] = posterior\n",
    "\n",
    "        return posteriors\n",
    "    \n",
    "    def predict(self, X):\n",
    "\n",
    "        if isinstance(X, pd.DataFrame):\n",
    "            X = X.values\n",
    "        \n",
    "        y_pred = []\n",
    "        for x in X:\n",
    "            posteriors = self._class_likelihood(x)\n",
    "            cls = max(posteriors, key=posteriors.get)\n",
    "            y_pred.append(cls)\n",
    "        return np.array(y_pred)\n"
   ]
  },
  {
   "cell_type": "code",
   "execution_count": 414,
   "metadata": {},
   "outputs": [],
   "source": [
    "gnb = GaussianNaiveBayes()"
   ]
  },
  {
   "cell_type": "code",
   "execution_count": 415,
   "metadata": {},
   "outputs": [],
   "source": [
    "gnb.fit(X_train,y_train)\n"
   ]
  },
  {
   "cell_type": "code",
   "execution_count": 416,
   "metadata": {},
   "outputs": [],
   "source": [
    "gnb_pred = gnb.predict(X_val)"
   ]
  },
  {
   "cell_type": "code",
   "execution_count": 417,
   "metadata": {},
   "outputs": [
    {
     "name": "stdout",
     "output_type": "stream",
     "text": [
      "Accuracy: 0.9855418254335672\n",
      "F1 Score: 0.985809415371779\n",
      "Recall Score: 0.9855418254335672\n",
      "Balanced Accuracy: 0.9673767074825068\n",
      "Gauss Naive Bayes from scratch\n",
      "              precision    recall  f1-score   support\n",
      "\n",
      "           0       0.87      0.95      0.91      2111\n",
      "           1       1.00      0.99      0.99     25970\n",
      "\n",
      "    accuracy                           0.99     28081\n",
      "   macro avg       0.93      0.97      0.95     28081\n",
      "weighted avg       0.99      0.99      0.99     28081\n",
      "\n",
      "\n"
     ]
    }
   ],
   "source": [
    "print(f'Accuracy: {accuracy_score(y_val, gnb_pred)}')\n",
    "print(f'F1 Score: {f1_score(y_val, gnb_pred, average=\"weighted\")}')\n",
    "print(f'Recall Score: {recall_score(y_val, gnb_pred, average=\"weighted\")}')\n",
    "print(f\"Balanced Accuracy: {balanced_accuracy_score(y_val, gnb_pred)}\")\n",
    "print(\"Gauss Naive Bayes from scratch\")\n",
    "print(classification_report(y_val, gnb_pred))\n",
    "print()"
   ]
  },
  {
   "cell_type": "markdown",
   "metadata": {
    "id": "LoH2u6fOLfHh"
   },
   "source": [
    "## C. Improvements (Optional)\n",
    "\n",
    "- **Visualize the model evaluation result**\n",
    "\n",
    "This will help you to understand the details more clearly about your model's performance. From the visualization, you can see clearly if your model is leaning towards a class than the others. (Hint: confusion matrix, ROC-AUC curve, etc.)\n",
    "\n",
    "- **Explore the hyperparameters of your models**\n",
    "\n",
    "Each models have their own hyperparameters. And each of the hyperparameter have different effects on the model behaviour. You can optimize the model performance by finding the good set of hyperparameters through a process called **hyperparameter tuning**. (Hint: Grid search, random search, bayesian optimization)\n",
    "\n",
    "- **Cross-validation**\n",
    "\n",
    "Cross-validation is a critical technique in machine learning and data science for evaluating and validating the performance of predictive models. It provides a more **robust** and **reliable** evaluation method compared to a hold-out (single train-test set) validation. Though, it requires more time and computing power because of how cross-validation works. (Hint: k-fold cross-validation, stratified k-fold cross-validation, etc.)"
   ]
  },
  {
   "cell_type": "markdown",
   "metadata": {
    "id": "Li4l53DjLfHh"
   },
   "source": [
    "## D. Submission\n",
    "To predict the test set target feature and submit the results to the kaggle competition platform, do the following:\n",
    "1. Create a new pipeline instance identical to the first in Data Preprocessing\n",
    "2. With the pipeline, apply `fit_transform` to the original training set before splitting, then only apply `transform` to the test set.\n",
    "3. Retrain the model on the preprocessed training set\n",
    "4. Predict the test set\n",
    "5. Make sure the submission contains the `id` and `label` column.\n",
    "\n",
    "Note: Adjust step 1 and 2 to your implementation of the preprocessing step if you don't use pipeline API from `sklearn`."
   ]
  },
  {
   "cell_type": "code",
   "execution_count": 418,
   "metadata": {},
   "outputs": [],
   "source": [
    "from sklearn.pipeline import Pipeline\n",
    "\n",
    "\n",
    "pipe_submit = Pipeline([\n",
    "                 (\"feature_imputer\", FeatureImputer()),\n",
    "                 (\"duplicate_remover\", DuplicateRemover()),\n",
    "                 (\"feature_selector\", FeatureSelector()),\n",
    "                 (\"encoder\", FeatureEncoder()),\n",
    "                 (\"feature_object_dropper\", FeatureObjectDropper()),\n",
    "                 (\"feature_creator\", FeatureCreator()),\n",
    "                 (\"feature_transformator\", FeatureTransformator()),\n",
    "                 (\"feature_scaler\", FeatureScaler()),\n",
    "                 ])"
   ]
  },
  {
   "cell_type": "code",
   "execution_count": 419,
   "metadata": {},
   "outputs": [],
   "source": [
    "train_set_original = pipe_submit.fit_transform(train_set_original)\n",
    "df_test = pipe_submit.transform(df_test)"
   ]
  },
  {
   "cell_type": "code",
   "execution_count": 420,
   "metadata": {},
   "outputs": [],
   "source": [
    "X_train_submit = train_set_original.drop(columns=[\"label\"])\n",
    "y_train_submit = train_set_original['label']"
   ]
  },
  {
   "cell_type": "code",
   "execution_count": 421,
   "metadata": {},
   "outputs": [],
   "source": [
    "X_train_submit, y_train_submit = my_smote(X_train_submit, y_train_submit)"
   ]
  },
  {
   "cell_type": "code",
   "execution_count": 422,
   "metadata": {
    "id": "LeqnfWc-LfHi"
   },
   "outputs": [
    {
     "data": {
      "text/html": [
       "<div>\n",
       "<style scoped>\n",
       "    .dataframe tbody tr th:only-of-type {\n",
       "        vertical-align: middle;\n",
       "    }\n",
       "\n",
       "    .dataframe tbody tr th {\n",
       "        vertical-align: top;\n",
       "    }\n",
       "\n",
       "    .dataframe thead th {\n",
       "        text-align: right;\n",
       "    }\n",
       "</style>\n",
       "<table border=\"1\" class=\"dataframe\">\n",
       "  <thead>\n",
       "    <tr style=\"text-align: right;\">\n",
       "      <th></th>\n",
       "      <th>id</th>\n",
       "      <th>label</th>\n",
       "    </tr>\n",
       "  </thead>\n",
       "  <tbody>\n",
       "    <tr>\n",
       "      <th>0</th>\n",
       "      <td>48</td>\n",
       "      <td>1</td>\n",
       "    </tr>\n",
       "    <tr>\n",
       "      <th>1</th>\n",
       "      <td>68</td>\n",
       "      <td>0</td>\n",
       "    </tr>\n",
       "    <tr>\n",
       "      <th>2</th>\n",
       "      <td>76</td>\n",
       "      <td>1</td>\n",
       "    </tr>\n",
       "    <tr>\n",
       "      <th>3</th>\n",
       "      <td>155</td>\n",
       "      <td>1</td>\n",
       "    </tr>\n",
       "    <tr>\n",
       "      <th>4</th>\n",
       "      <td>167</td>\n",
       "      <td>0</td>\n",
       "    </tr>\n",
       "  </tbody>\n",
       "</table>\n",
       "</div>"
      ],
      "text/plain": [
       "    id  label\n",
       "0   48      1\n",
       "1   68      0\n",
       "2   76      1\n",
       "3  155      1\n",
       "4  167      0"
      ]
     },
     "execution_count": 422,
     "metadata": {},
     "output_type": "execute_result"
    }
   ],
   "source": [
    "knn = KNearestNeighbors(k = 3)\n",
    "knn.fit(X_train_submit, y_train_submit)\n",
    "\n",
    "submission = pd.read_csv('sample_submission.csv')\n",
    "submission['label'] = knn.predict(df_test) \n",
    "submission.to_csv('submission_nn.csv', index=False)\n",
    "submission.head()"
   ]
  },
  {
   "cell_type": "code",
   "execution_count": 423,
   "metadata": {},
   "outputs": [],
   "source": [
    "import pickle\n",
    "pickle.dump(knn, open(\"knn.pkl\", \"wb\"))\n"
   ]
  },
  {
   "cell_type": "markdown",
   "metadata": {
    "id": "R-jXvKOpLfHi"
   },
   "source": [
    "# 6. Error Analysis\n",
    "\n",
    "Based on all the process you have done until the modeling and evaluation step, write an analysis to support each steps you have taken to solve this problem. Write the analysis using the markdown block. Some questions that may help you in writing the analysis:\n",
    "\n",
    "- Does my model perform better in predicting one class than the other? If so, why is that?\n",
    "- To each models I have tried, which performs the best and what could be the reason?\n",
    "- Is it better for me to impute or drop the missing data? Why?\n",
    "- Does feature scaling help improve my model performance?\n",
    "- etc..."
   ]
  },
  {
   "cell_type": "markdown",
   "metadata": {
    "id": "tWL3nEAELfHj"
   },
   "source": [
    "`Provide your analysis here`"
   ]
  }
 ],
 "metadata": {
  "colab": {
   "provenance": [],
   "toc_visible": true
  },
  "kernelspec": {
   "display_name": ".venv",
   "language": "python",
   "name": "python3"
  },
  "language_info": {
   "codemirror_mode": {
    "name": "ipython",
    "version": 3
   },
   "file_extension": ".py",
   "mimetype": "text/x-python",
   "name": "python",
   "nbconvert_exporter": "python",
   "pygments_lexer": "ipython3",
   "version": "3.11.0"
  }
 },
 "nbformat": 4,
 "nbformat_minor": 0
}
