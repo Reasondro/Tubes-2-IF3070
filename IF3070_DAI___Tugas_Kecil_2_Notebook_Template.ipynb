{
 "cells": [
  {
   "cell_type": "markdown",
   "metadata": {
    "id": "uSIWCqrYmFED"
   },
   "source": [
    "# IF3070 Foundations of Artificial Intelligence | Tugas Kecil 2\n",
    "\n",
    "This notebook serves as a template for the assignment. Please create a copy of this notebook to complete your work. You can add more code blocks if needed."
   ]
  },
  {
   "cell_type": "markdown",
   "metadata": {
    "id": "h7GBlbj5mFEE"
   },
   "source": [
    "Group Number: xx\n",
    "\n",
    "Group Members:\n",
    "- Alessandro Jusack Hasian (18222025)\n",
    "- Name (NIM)"
   ]
  },
  {
   "cell_type": "markdown",
   "metadata": {
    "id": "0h-OTlV0mFEE"
   },
   "source": [
    "## Import Libraries"
   ]
  },
  {
   "cell_type": "code",
   "execution_count": null,
   "metadata": {
    "id": "6HiGhI10mFEE"
   },
   "outputs": [],
   "source": [
    "import pandas as pd\n",
    "import numpy as np\n",
    "import plotly.express as px"
   ]
  },
  {
   "cell_type": "markdown",
   "metadata": {
    "id": "ugTwxRyfmFEF"
   },
   "source": [
    "## Import Dataset"
   ]
  },
  {
   "cell_type": "code",
   "execution_count": null,
   "metadata": {
    "id": "snidRLctv2KH"
   },
   "outputs": [],
   "source": [
    "# df = pd.read_csv('https://drive.google.com/uc?id=1Lqc62GTUSNhsRvn_IWeJ8Ts1tzrXhQT2')\n",
    "# df.head()\n",
    "df = pd.read_csv(\"train.csv\")\n",
    "# df.head()"
   ]
  },
  {
   "cell_type": "markdown",
   "metadata": {
    "id": "M7K9dRzOmFEG"
   },
   "source": [
    "# 1. Exploratory Data Analysis\n",
    "\n",
    "Exploratory Data Analysis (EDA) is a crucial step in the data analysis process that involves examining and visualizing data sets to uncover patterns, trends, anomalies, and insights. It is the first step before applying more advanced statistical and machine learning techniques. EDA helps you to gain a deep understanding of the data you are working with, allowing you to make informed decisions and formulate hypotheses for further analysis."
   ]
  },
  {
   "cell_type": "markdown",
   "metadata": {
    "id": "w6tzpaCimFEG"
   },
   "source": [
    "## A. Data Understanding\n",
    "The objective of this section is for participants to understand the quality of the provided data. This includes:\n",
    "\n",
    "1. Data Size\n",
    "2. Statistics of Each Feature\n",
    "3. Outliers\n",
    "4. Correlation\n",
    "5. Distribution"
   ]
  },
  {
   "cell_type": "markdown",
   "metadata": {
    "id": "96TcnbB9mFEG"
   },
   "source": [
    "### Step 1\n",
    "\n",
    "Find the following:\n",
    "\n",
    "1. The size of the data (instances and features).\n",
    "2. The data types of each feature.\n",
    "3. The number of unique values for categorical features.\n",
    "4. The minimum, maximum, mean, median, and standard deviation values for non-categorical features.\n",
    "5. Explain the significance of gathering the first four pieces of information."
   ]
  },
  {
   "cell_type": "code",
   "execution_count": null,
   "metadata": {
    "colab": {
     "base_uri": "https://localhost:8080/"
    },
    "id": "TaELJ0atmFEG",
    "outputId": "292f2fe9-0130-4f6a-885c-27e5e6c53f28"
   },
   "outputs": [],
   "source": [
    "# ? dat size\n",
    "print(f\"Total size: {df.size} \")\n",
    "print(f\"Instances: {len(df.index)}\")\n",
    "print(f\"Features: {len(df.columns)}\")\n"
   ]
  },
  {
   "cell_type": "code",
   "execution_count": null,
   "metadata": {
    "colab": {
     "base_uri": "https://localhost:8080/"
    },
    "id": "lHe8x2ZXDom4",
    "outputId": "bd043253-7300-4c14-8291-7dc8074c0f1f"
   },
   "outputs": [],
   "source": [
    "# ? data typ of each greature\n",
    "\n",
    "print(df.dtypes)"
   ]
  },
  {
   "cell_type": "code",
   "execution_count": null,
   "metadata": {
    "colab": {
     "base_uri": "https://localhost:8080/",
     "height": 1000
    },
    "id": "EeXJqrgMDom5",
    "outputId": "e6c9ce56-6479-40cd-a171-5f81b79d9e06"
   },
   "outputs": [],
   "source": [
    "# n of unique form eahc\n",
    "print(\"N amount of unqiue value from each features\")\n",
    "df.nunique(axis = 0) #default 0 sih, cman ttp aja"
   ]
  },
  {
   "cell_type": "code",
   "execution_count": null,
   "metadata": {
    "colab": {
     "base_uri": "https://localhost:8080/"
    },
    "collapsed": true,
    "id": "CJaGo5w1Dom5",
    "outputId": "bb997172-1e9a-48ef-c9c4-241eb7620fc2"
   },
   "outputs": [],
   "source": [
    "# ? ini gatau diminta ato ga ya, cman jaga2 aja supaya lbh bgus\n",
    "# difference dri yg atas, ini per column dikshi tau okurensi tiap value distincntya\n",
    "for c in df.columns:\n",
    "    print(f\"Value counts for {c}:\")\n",
    "    print(df[c].value_counts())\n",
    "    print(\"\\n\")"
   ]
  },
  {
   "cell_type": "code",
   "execution_count": null,
   "metadata": {
    "colab": {
     "base_uri": "https://localhost:8080/",
     "height": 330
    },
    "id": "aRsmfFUXDom5",
    "outputId": "fd17a7eb-319c-4064-b69c-059edcbb8206"
   },
   "outputs": [],
   "source": [
    "#? min max mean median and std from each\n",
    "df.describe()\n"
   ]
  },
  {
   "cell_type": "code",
   "execution_count": null,
   "metadata": {
    "id": "YrlQnj1JDom5"
   },
   "outputs": [],
   "source": [
    "# ? ini jelasin pentingny nanti lah wkkw"
   ]
  },
  {
   "cell_type": "markdown",
   "metadata": {
    "id": "sNRFMQoumFEG"
   },
   "source": [
    "### Step 2\n",
    "\n",
    "Find the following:\n",
    "\n",
    "1. Missing values for each feature.\n",
    "2. Outliers for each feature (use the methods you are familiar with).\n",
    "3. Why is it necessary to identify missing values and outliers?"
   ]
  },
  {
   "cell_type": "code",
   "execution_count": null,
   "metadata": {
    "colab": {
     "base_uri": "https://localhost:8080/",
     "height": 1000
    },
    "id": "caSC8wnpmFEH",
    "outputId": "10c010c9-33e0-494a-ab99-73d1c2008326"
   },
   "outputs": [],
   "source": [
    "#? missing valuess\n",
    "# df.isnull().sum() # sama aja\n",
    "df.isna().sum()"
   ]
  },
  {
   "cell_type": "code",
   "execution_count": null,
   "metadata": {
    "colab": {
     "base_uri": "https://localhost:8080/"
    },
    "id": "Mi7QYApPDom5",
    "outputId": "d5c5cd5c-b758-4f0f-b726-75a6721f789e"
   },
   "outputs": [],
   "source": [
    "# ? ini jga gatau butuh ato ga, cman jaga2 aja hehe (walaupun dri atas dah keliatan sih)\n",
    "missing_features = df.columns[df.isna().any()].tolist()\n",
    "print(f\"features that  hae missing values: {missing_features}\")"
   ]
  },
  {
   "cell_type": "code",
   "execution_count": null,
   "metadata": {
    "id": "eS_sSfgrF5OB"
   },
   "outputs": [],
   "source": [
    "# ini ak pisahin buat df bru yg isinya numerical smua)\n",
    "df_numerical = df.select_dtypes(include=[\"number\"])\n",
    "df_numerical = df_numerical.drop(\"id\",axis=\"columns\")\n",
    "# df_numerical = df_numerical.dropna()"
   ]
  },
  {
   "cell_type": "code",
   "execution_count": null,
   "metadata": {},
   "outputs": [],
   "source": [
    "df_numerical.head()"
   ]
  },
  {
   "cell_type": "code",
   "execution_count": null,
   "metadata": {
    "colab": {
     "base_uri": "https://localhost:8080/"
    },
    "id": "Ocf8tv__sTXB",
    "outputId": "c6df9b79-6a76-4c3e-c8d4-9034f1634d97"
   },
   "outputs": [],
   "source": [
    "print( f\"Tottal size: {df_numerical.size} \")\n",
    "print(f\"Instances: {len(df_numerical.index)}\")\n",
    "print(f\"Features: {len(df_numerical.columns)}\")"
   ]
  },
  {
   "cell_type": "code",
   "execution_count": null,
   "metadata": {
    "colab": {
     "base_uri": "https://localhost:8080/",
     "height": 1000
    },
    "collapsed": true,
    "id": "NVj0tm42Dom5",
    "outputId": "fa1c3443-3efc-49ff-c829-e29425ff7bd9"
   },
   "outputs": [],
   "source": [
    "#? outlier\n",
    "count = 0 # cman buat MENCEGAH NGELAG, TESTING DOANG\n",
    "for c in df_numerical.columns:\n",
    "    if(count == 3 ):\n",
    "        break\n",
    "    box_fig = px.box(df_numerical,y = c, title=f\"Box plot for {c}\")\n",
    "    box_fig.show()\n",
    "    count = count + 1\n",
    "\n",
    "# ? ini bakal gendut bgt btw hasilnya HAHA, jdi ak collapse sementara\n"
   ]
  },
  {
   "cell_type": "code",
   "execution_count": null,
   "metadata": {},
   "outputs": [],
   "source": []
  },
  {
   "cell_type": "code",
   "execution_count": null,
   "metadata": {
    "id": "99QMiTXyDom5"
   },
   "outputs": [],
   "source": [
    "# ? again alasan blablablany kenpaa penting nanti ah ribet"
   ]
  },
  {
   "cell_type": "markdown",
   "metadata": {
    "id": "nl_Xcxn-mFEH"
   },
   "source": [
    "### Step 3\n",
    "\n",
    "Find the following:\n",
    "\n",
    "1. Correlations between features.\n",
    "2. Visualize the distribution of each feature (categorical and continuous).\n",
    "3. Visualize the correlation between features and the target variable.\n",
    "4. Explain the significance of understanding feature distributions and correlations."
   ]
  },
  {
   "cell_type": "code",
   "execution_count": null,
   "metadata": {
    "colab": {
     "base_uri": "https://localhost:8080/"
    },
    "id": "y7uzcuWgmFEH",
    "outputId": "97a154fc-e29d-4075-b0f5-c91ec53d6f91"
   },
   "outputs": [],
   "source": [
    "# correlation\n",
    "corr = df_numerical.corr()\n",
    "\n",
    "corr_fig = px.imshow(corr, text_auto=True, color_continuous_scale=\"thermal\", title=\"Correlation Heatmap\", width=1080, height=1080)\n",
    "corr_fig.show()"
   ]
  },
  {
   "cell_type": "code",
   "execution_count": null,
   "metadata": {},
   "outputs": [],
   "source": [
    "df_categorical = df.select_dtypes(exclude=[\"number\"])\n"
   ]
  },
  {
   "cell_type": "code",
   "execution_count": null,
   "metadata": {},
   "outputs": [],
   "source": [
    "for c in df_categorical.columns:\n",
    "    dis_fig1 = px.histogram(\n",
    "        df_categorical,\n",
    "        x=c,\n",
    "        title=f\"Distribution of {c}\",\n",
    "        marginal=\"box\",\n",
    "        nbins=30,\n",
    "        template=\"plotly_dark\"\n",
    "    )\n",
    "    dis_fig1.show()"
   ]
  },
  {
   "cell_type": "code",
   "execution_count": null,
   "metadata": {
    "colab": {
     "base_uri": "https://localhost:8080/"
    },
    "id": "n2VmTen6Dom6",
    "outputId": "430c61aa-e8a3-4267-ebf2-5709c1389997"
   },
   "outputs": [],
   "source": [
    "# ? distribution each feature --> versi 1\n",
    "\n",
    "for c in df.columns:\n",
    "    dis_fig1 = px.histogram(\n",
    "        df,\n",
    "        x=c,\n",
    "        title=f\"Distribution of {c}\",\n",
    "        marginal=\"box\",\n",
    "        nbins=30,\n",
    "        template=\"plotly_dark\"\n",
    "    )\n",
    "    dis_fig1.show()"
   ]
  },
  {
   "cell_type": "code",
   "execution_count": null,
   "metadata": {
    "colab": {
     "base_uri": "https://localhost:8080/",
     "height": 1000
    },
    "id": "Iep5CfzwDom6",
    "outputId": "4007655e-f0cf-4402-e252-6f1cf52ce0e3"
   },
   "outputs": [],
   "source": [
    "# ? distribution each feature --> versi 2\n",
    "for c in df.columns:\n",
    "    dis_fig2 = px.histogram(\n",
    "        df,\n",
    "        x=c,\n",
    "        title=f\"Density Plot of {c}\",\n",
    "        marginal=\"violin\",\n",
    "        histnorm=\"density\",\n",
    "    )\n",
    "    dis_fig2.show()"
   ]
  },
  {
   "cell_type": "markdown",
   "metadata": {
    "id": "tGS62xxlmFEH"
   },
   "source": [
    "## B. Data Insights\n",
    "\n",
    "The objective of this section is for participants to understand how to formulate and get many insights from the given data so that we can improve the model performance. Given example questions:\n",
    "\n",
    "1. How was the proportion between phishing and non-phishing URLs on security related features (`IsHTTPS` and `Robots`)?\n",
    "2. Is there a significant correlation between the label of a URL (phishing or non-phishing) and its URL characteristics?\n",
    "3. How does website-resource-related features vary across phishing and non-phishing URLs?"
   ]
  },
  {
   "cell_type": "markdown",
   "metadata": {
    "id": "ngKJAIjHmFEH"
   },
   "source": [
    "### Step 1\n",
    "\n",
    "Answer the three example questions by visualizing and explaining the insights for each question. Add markdown texts to explain the visualizations."
   ]
  },
  {
   "cell_type": "markdown",
   "metadata": {
    "id": "gQBlE_O0mFEH"
   },
   "source": [
    "#### 1. How was the proportion between phishing and non-phishing URLs on security related features (`IsHTTPS` and `Robots`)?"
   ]
  },
  {
   "cell_type": "code",
   "execution_count": null,
   "metadata": {
    "id": "wVaopwwPmFEH"
   },
   "outputs": [],
   "source": [
    "# Write your code here"
   ]
  },
  {
   "cell_type": "markdown",
   "metadata": {
    "id": "l-fb-3klmFEI"
   },
   "source": [
    "#### 2. Is there a significant correlation between the label of a URL (phishing or non-phishing) and its URL characteristics?\n",
    "\n",
    "URL Characteristics:\n",
    "- `URLLength`\n",
    "- `Domain`\n",
    "- `DomainLength`\n",
    "- `IsDomainIP`\n",
    "- `TLD`\n",
    "- `TLDLength`\n",
    "- `NoOfSubDomain`\n",
    "- `HasObfuscation`\n",
    "- `NoOfObfuscatedChar`\n",
    "- `ObfuscationRatio`\n",
    "- `NoOfLettersInURL`\n",
    "- `LetterRatioInURL`\n",
    "- `NoOfDegitsInURL`\n",
    "- `DegitRatioInURL`\n",
    "- `NoOfEqualsInURL`\n",
    "- `NoOfQMarkInURL`\n",
    "- `NoOfAmpersandInURL`\n",
    "- `NoOfOtherSpecialCharsInURL`\n",
    "- `SpacialCharRatioInURL`\n",
    "- `CharContinuationRate`"
   ]
  },
  {
   "cell_type": "code",
   "execution_count": null,
   "metadata": {
    "id": "23RcHcP3mFEI"
   },
   "outputs": [],
   "source": [
    "# Write your code here"
   ]
  },
  {
   "cell_type": "markdown",
   "metadata": {
    "id": "OIKBiJrCmFEI"
   },
   "source": [
    "#### 3. How does website-resource-related features vary across phishing and non-phishing URLs?\n",
    "\n",
    "Website resource related features:\n",
    "- `NoOfImage`\n",
    "- `NoOfCSS`\n",
    "- `NoOfJS`\n",
    "- `NoOfSelfRef`\n",
    "- `NoOfEmptyRef`\n",
    "- `NoOfExternalRef`"
   ]
  },
  {
   "cell_type": "code",
   "execution_count": null,
   "metadata": {
    "id": "1TSAakrmmFEI",
    "trusted": true
   },
   "outputs": [],
   "source": [
    "# Write your code here"
   ]
  },
  {
   "cell_type": "markdown",
   "metadata": {
    "id": "TLO0_HBwmFEI"
   },
   "source": [
    "### Step 2\n",
    "\n",
    "Try to formulate three other new questions and answer them with the methods used before."
   ]
  },
  {
   "cell_type": "markdown",
   "metadata": {
    "id": "m8Xzww7lmFEI"
   },
   "source": [
    "#### 4. Your first question (replace this heading)"
   ]
  },
  {
   "cell_type": "code",
   "execution_count": null,
   "metadata": {
    "id": "zkaWpkSwmFEI"
   },
   "outputs": [],
   "source": [
    "# Write your code here"
   ]
  },
  {
   "cell_type": "markdown",
   "metadata": {
    "id": "8fkn9jVWmFEI"
   },
   "source": [
    "#### 5. Your second question (replace this heading)"
   ]
  },
  {
   "cell_type": "code",
   "execution_count": null,
   "metadata": {
    "id": "uEg3UUM4mFEI"
   },
   "outputs": [],
   "source": [
    "# Write your code here"
   ]
  },
  {
   "cell_type": "markdown",
   "metadata": {
    "id": "a8IdPTpsmFEJ"
   },
   "source": [
    "#### 6. Your third question (replace this heading)"
   ]
  },
  {
   "cell_type": "code",
   "execution_count": null,
   "metadata": {
    "id": "0NwSQ3a_mFEJ",
    "trusted": true
   },
   "outputs": [],
   "source": [
    "# Write your code here"
   ]
  }
 ],
 "metadata": {
  "colab": {
   "provenance": []
  },
  "kaggle": {
   "accelerator": "none",
   "dataSources": [
    {
     "databundleVersionId": 6475798,
     "sourceId": 60002,
     "sourceType": "competition"
    }
   ],
   "dockerImageVersionId": 30553,
   "isGpuEnabled": false,
   "isInternetEnabled": true,
   "language": "python",
   "sourceType": "notebook"
  },
  "kernelspec": {
   "display_name": "usr",
   "language": "python",
   "name": "python3"
  },
  "language_info": {
   "codemirror_mode": {
    "name": "ipython",
    "version": 3
   },
   "file_extension": ".py",
   "mimetype": "text/x-python",
   "name": "python",
   "nbconvert_exporter": "python",
   "pygments_lexer": "ipython3",
   "version": "3.13.0"
  }
 },
 "nbformat": 4,
 "nbformat_minor": 0
}
