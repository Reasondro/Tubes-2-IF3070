{
 "cells": [
  {
   "cell_type": "markdown",
   "metadata": {
    "id": "uR1JW69eLfG_"
   },
   "source": [
    "# IF3070 Foundations of Artificial Intelligence | Tugas Besar 2\n"
   ]
  },
  {
   "cell_type": "markdown",
   "metadata": {
    "id": "ucbaI5rBLtjJ"
   },
   "source": [
    "Group Number: xx (lupaa)\n",
    "\n",
    "Group Members:\n",
    "- ale (NIM)\n",
    "- viktor (NIM)\n",
    "- nicho (nim)\n",
    "- daf (nim)"
   ]
  },
  {
   "cell_type": "markdown",
   "metadata": {
    "id": "GwzsfETHLfHA"
   },
   "source": [
    "## Import Libraries"
   ]
  },
  {
   "cell_type": "code",
   "execution_count": 100,
   "metadata": {
    "id": "jZJU5W_4LfHB"
   },
   "outputs": [],
   "source": [
    "import pandas as pd\n",
    "import numpy as np\n",
    "import plotly.express as px\n",
    "import seaborn as sns\n",
    "import matplotlib.pyplot as plt\n",
    "import scipy.stats as stats\n",
    "from sklearn.preprocessing import LabelEncoder"
   ]
  },
  {
   "cell_type": "markdown",
   "metadata": {
    "id": "OKbjLIdYLfHC"
   },
   "source": [
    "## Import Dataset"
   ]
  },
  {
   "cell_type": "code",
   "execution_count": 101,
   "metadata": {
    "id": "-IWFJ-gdLfHD"
   },
   "outputs": [],
   "source": [
    "# df = pd.read_csv('https://drive.google.com/uc?id=1ZUtiaty9RPXhpz5F2Sy3dFPHF4YIt5iU')\n",
    "df = pd.read_csv('train.csv')\n",
    "df_test = pd.read_csv('test.csv')\n",
    "# df.head()"
   ]
  },
  {
   "cell_type": "markdown",
   "metadata": {
    "id": "gvx-gT3bLfHM"
   },
   "source": [
    "# 1. Split Training Set and Validation Set\n",
    "\n",
    "Splitting the training and validation set works as an early diagnostic towards the performance of the model we train. This is done before the preprocessing steps to **avoid data leakage inbetween the sets**. If you want to use k-fold cross-validation, split the data later and do the cleaning and preprocessing separately for each split.\n",
    "\n",
    "Note: For training, you should use the data contained in the `train` folder given by the TA. The `test` data is only used for kaggle submission."
   ]
  },
  {
   "cell_type": "code",
   "execution_count": 102,
   "metadata": {
    "id": "4yWCUFFBLfHM"
   },
   "outputs": [],
   "source": [
    "from sklearn.model_selection import train_test_split\n",
    "\n",
    "train_set, val_set = train_test_split(df, stratify=df['label'], test_size=0.2, random_state=42)\n",
    "train_set_original = train_set.copy()"
   ]
  },
  {
   "cell_type": "code",
   "execution_count": 103,
   "metadata": {},
   "outputs": [],
   "source": [
    "# import math\n",
    "# train_set_filtered = train_set.select_dtypes(exclude=['object']).copy()\n",
    "# train_set_filtered = train_set_filtered.drop(columns=\"id\")\n",
    "# numeric_cols = [col for col in train_set_filtered.columns if col != 'label']\n",
    "# n_cols = 2  \n",
    "# n_rows = math.ceil(len(numeric_cols) / n_cols)\n",
    "\n",
    "# fig, axes = plt.subplots(n_rows, n_cols, figsize=(17, 5 * n_rows), squeeze=False)\n",
    "\n",
    "# for idx, col in enumerate(numeric_cols):\n",
    "\n",
    "#     row = idx // n_cols\n",
    "#     colpos = idx % n_cols\n",
    "    \n",
    "#     ax = axes[row][colpos]  \n",
    "\n",
    "#     sns.boxplot(\n",
    "#         data=train_set, \n",
    "#         x=\"label\", \n",
    "#         y=col, \n",
    "#         hue=\"label\", \n",
    "#         palette=\"Set2\", \n",
    "#         ax=ax\n",
    "#     )\n",
    "#     ax.set_title(f\"Distribution of '{col}' by label\")\n",
    "    \n",
    "\n",
    "#     ax.get_legend().remove()\n",
    "\n",
    "\n",
    "# for j in range(idx+1, n_rows * n_cols):\n",
    "#     row = j // n_cols\n",
    "#     colpos = j % n_cols\n",
    "#     axes[row][colpos].set_visible(False)\n",
    "\n",
    "# plt.tight_layout()\n",
    "# plt.show()\n",
    "        \n",
    "    "
   ]
  },
  {
   "cell_type": "markdown",
   "metadata": {
    "id": "IC14lmo_LfHN"
   },
   "source": [
    "# 2. Data Cleaning and Preprocessing\n",
    "\n",
    "This step is the first thing to be done once a Data Scientist have grasped a general knowledge of the data. Raw data is **seldom ready for training**, therefore steps need to be taken to clean and format the data for the Machine Learning model to interpret.\n",
    "\n",
    "By performing data cleaning and preprocessing, you ensure that your dataset is ready for model training, leading to more accurate and reliable machine learning results. These steps are essential for transforming raw data into a format that machine learning algorithms can effectively learn from and make predictions.\n",
    "\n",
    "We will give some common methods for you to try, but you only have to **at least implement one method for each process**. For each step that you will do, **please explain the reason why did you do that process. Write it in a markdown cell under the code cell you wrote.**"
   ]
  },
  {
   "cell_type": "markdown",
   "metadata": {
    "id": "p95_A8hSLfHY"
   },
   "source": [
    "## A. Data Cleaning\n",
    "\n",
    "**Data cleaning** is the crucial first step in preparing your dataset for machine learning. Raw data collected from various sources is often messy and may contain errors, missing values, and inconsistencies. Data cleaning involves the following steps:\n",
    "\n",
    "1. **Handling Missing Data:** Identify and address missing values in the dataset. This can include imputing missing values, removing rows or columns with excessive missing data, or using more advanced techniques like interpolation.\n",
    "\n",
    "2. **Dealing with Outliers:** Identify and handle outliers, which are data points significantly different from the rest of the dataset. Outliers can be removed or transformed to improve model performance.\n",
    "\n",
    "3. **Data Validation:** Check for data integrity and consistency. Ensure that data types are correct, categorical variables have consistent labels, and numerical values fall within expected ranges.\n",
    "\n",
    "4. **Removing Duplicates:** Identify and remove duplicate rows, as they can skew the model's training process and evaluation metrics.\n",
    "\n",
    "5. **Feature Engineering**: Create new features or modify existing ones to extract relevant information. This step can involve scaling, normalizing, or encoding features for better model interpretability."
   ]
  },
  {
   "cell_type": "markdown",
   "metadata": {
    "id": "_wruGao9LfHZ"
   },
   "source": [
    "### I. Handling Missing Data\n",
    "\n",
    "Missing data can adversely affect the performance and accuracy of machine learning models. There are several strategies to handle missing data in machine learning:\n",
    "\n",
    "1. **Data Imputation:**\n",
    "\n",
    "    a. **Mean, Median, or Mode Imputation:** For numerical features, you can replace missing values with the mean, median, or mode of the non-missing values in the same feature. This method is simple and often effective when data is missing at random.\n",
    "\n",
    "    b. **Constant Value Imputation:** You can replace missing values with a predefined constant value (e.g., 0) if it makes sense for your dataset and problem.\n",
    "\n",
    "    c. **Imputation Using Predictive Models:** More advanced techniques involve using predictive models to estimate missing values. For example, you can train a regression model to predict missing numerical values or a classification model to predict missing categorical values.\n",
    "\n",
    "2. **Deletion of Missing Data:**\n",
    "\n",
    "    a. **Listwise Deletion:** In cases where the amount of missing data is relatively small, you can simply remove rows with missing values from your dataset. However, this approach can lead to a loss of valuable information.\n",
    "\n",
    "    b. **Column (Feature) Deletion:** If a feature has a large number of missing values and is not critical for your analysis, you can consider removing that feature altogether.\n",
    "\n",
    "3. **Domain-Specific Strategies:**\n",
    "\n",
    "    a. **Domain Knowledge:** In some cases, domain knowledge can guide the imputation process. For example, if you know that missing values are related to a specific condition, you can impute them accordingly.\n",
    "\n",
    "4. **Imputation Libraries:**\n",
    "\n",
    "    a. **Scikit-Learn:** Scikit-Learn provides a `SimpleImputer` class that can handle basic imputation strategies like mean, median, and mode imputation.\n",
    "\n",
    "    b. **Fancyimpute:** Fancyimpute is a Python library that offers more advanced imputation techniques, including matrix factorization, k-nearest neighbors, and deep learning-based methods.\n",
    "\n",
    "The choice of imputation method should be guided by the nature of your data, the amount of missing data, the problem you are trying to solve, and the assumptions you are willing to make."
   ]
  },
  {
   "cell_type": "code",
   "execution_count": 104,
   "metadata": {},
   "outputs": [],
   "source": [
    "# ? baru\n",
    "\n",
    "from sklearn.impute import SimpleImputer\n",
    "\n",
    "att = [\"IsDomainIP\", \"HasObfuscation\", \"IsHTTPS\", \"HasTitle\", \"HasFavicon\", \"Robots\", \"IsResponsive\", \n",
    "       \"HasDescription\", \"HasExternalFormSubmit\", \"HasSocialNet\", \"HasSubmitButton\", \"HasHiddenFields\", \n",
    "       \"HasPasswordField\", \"Pay\", \"Bank\", \"Crypto\", \"HasCopyrightInfo\"]\n",
    "\n",
    "# Inisialisasi imputer untuk kategori dan numerik\n",
    "categorical_imputer = SimpleImputer(strategy='most_frequent')\n",
    "numeric_imputer = SimpleImputer(strategy='mean')\n",
    "\n",
    "# Mendapatkan daftar kolom numerik dan kategorikal\n",
    "numeric_cols = train_set.select_dtypes(include=['float64', 'int64']).columns.tolist()\n",
    "categorical_cols = train_set.select_dtypes(include=['object']).columns.tolist()\n",
    "\n",
    "# Mendapatkan kolom numerik yang tidak ada dalam \"att\"\n",
    "numeric_cols_beneran = [col for col in numeric_cols if col not in att and col != \"label\"]\n",
    "\n",
    "# Imputasi untuk kolom-kolom dalam \"att\" (kategori)\n",
    "train_set[att] = categorical_imputer.fit_transform(train_set[att])\n",
    "val_set[att] = categorical_imputer.transform(val_set[att])\n",
    "df_test[att] = categorical_imputer.transform(df_test[att])\n",
    "\n",
    "# Imputasi untuk kolom numerik yang tidak ada dalam \"att\"\n",
    "train_set[numeric_cols_beneran] = numeric_imputer.fit_transform(train_set[numeric_cols_beneran])\n",
    "val_set[numeric_cols_beneran] = numeric_imputer.transform(val_set[numeric_cols_beneran])\n",
    "df_test[numeric_cols_beneran] = numeric_imputer.transform(df_test[numeric_cols_beneran])\n",
    "\n",
    "# Imputasi untuk kolom kategori umum\n",
    "train_set[categorical_cols] = categorical_imputer.fit_transform(train_set[categorical_cols])\n",
    "val_set[categorical_cols] = categorical_imputer.transform(val_set[categorical_cols])\n",
    "df_test[categorical_cols] = categorical_imputer.transform(df_test[categorical_cols])\n",
    "\n"
   ]
  },
  {
   "cell_type": "markdown",
   "metadata": {
    "id": "zgrSMcK75VY_"
   },
   "source": [
    "### II. Dealing with Outliers\n",
    "\n",
    "Outliers are data points that significantly differ from the majority of the data. They can be unusually high or low values that do not fit the pattern of the rest of the dataset. Outliers can significantly impact model performance, so it is important to handle them properly.\n",
    "\n",
    "Some methods to handle outliers:\n",
    "1. **Imputation**: Replace with mean, median, or a boundary value.\n",
    "2. **Clipping**: Cap values to upper and lower limits.\n",
    "3. **Transformation**: Use log, square root, or power transformations to reduce their influence.\n",
    "4. **Model-Based**: Use algorithms robust to outliers (e.g., tree-based models, Huber regression)."
   ]
  },
  {
   "cell_type": "markdown",
   "metadata": {
    "id": "aO0ZEZ-s6Lu-"
   },
   "source": [
    "### III. Remove Duplicates\n",
    "Handling duplicate values is crucial because they can compromise data integrity, leading to inaccurate analysis and insights. Duplicate entries can bias machine learning models, causing overfitting and reducing their ability to generalize to new data. They also inflate the dataset size unnecessarily, increasing computational costs and processing times. Additionally, duplicates can distort statistical measures and lead to inconsistencies, ultimately affecting the reliability of data-driven decisions and reporting. Ensuring data quality by removing duplicates is essential for accurate, efficient, and consistent analysis."
   ]
  },
  {
   "cell_type": "code",
   "execution_count": 105,
   "metadata": {},
   "outputs": [
    {
     "name": "stdout",
     "output_type": "stream",
     "text": [
      "train_set before: 112323\n",
      "train_set after: 112323\n",
      "val_set before 28081\n",
      "val_set after: 28081\n",
      "df_test before 10000\n",
      "df_test after: 10000\n"
     ]
    }
   ],
   "source": [
    "print(\"train_set before:\", len(train_set))\n",
    "train_set.drop_duplicates(inplace=True)\n",
    "print(\"train_set after:\", len(train_set))\n",
    "train_set.reset_index(drop=True, inplace=True)\n",
    "\n",
    "print(\"val_set before\", len(val_set))\n",
    "val_set.drop_duplicates(inplace=True)\n",
    "print(\"val_set after:\", len(val_set))\n",
    "\n",
    "print(\"df_test before\", len(df_test))\n",
    "df_test.drop_duplicates(inplace=True)\n",
    "print(\"df_test after:\", len(df_test))"
   ]
  },
  {
   "cell_type": "markdown",
   "metadata": {
    "id": "eycPASmMLfHa"
   },
   "source": [
    "### IV. Feature Engineering\n",
    "\n",
    "**Feature engineering** involves creating new features (input variables) or transforming existing ones to improve the performance of machine learning models. Feature engineering aims to enhance the model's ability to learn patterns and make accurate predictions from the data. It's often said that \"good features make good models.\"\n",
    "\n",
    "1. **Feature Selection:** Feature engineering can involve selecting the most relevant and informative features from the dataset. Removing irrelevant or redundant features not only simplifies the model but also reduces the risk of overfitting.\n",
    "\n",
    "2. **Creating New Features:** Sometimes, the existing features may not capture the underlying patterns effectively. In such cases, engineers create new features that provide additional information. For example:\n",
    "   \n",
    "   - **Polynomial Features:** Engineers may create new features by taking the square, cube, or other higher-order terms of existing numerical features. This can help capture nonlinear relationships.\n",
    "   \n",
    "   - **Interaction Features:** Interaction features are created by combining two or more existing features. For example, if you have features \"length\" and \"width,\" you can create an \"area\" feature by multiplying them.\n",
    "\n",
    "3. **Binning or Discretization:** Continuous numerical features can be divided into bins or categories. For instance, age values can be grouped into bins like \"child,\" \"adult,\" and \"senior.\"\n",
    "\n",
    "4. **Domain-Specific Feature Engineering:** Depending on the domain and problem, engineers may create domain-specific features. For example, in fraud detection, features related to transaction history and user behavior may be engineered to identify anomalies.\n",
    "\n",
    "Feature engineering is both a creative and iterative process. It requires a deep understanding of the data, domain knowledge, and experimentation to determine which features will enhance the model's predictive power."
   ]
  },
  {
   "cell_type": "code",
   "execution_count": 106,
   "metadata": {},
   "outputs": [],
   "source": [
    "# # newa features\n",
    "# def calculate_total_resources(X):\n",
    "#     total = X['NoOfImage'] + X['NoOfCSS'] + X['NoOfJS'] + X['NoOfSelfRef'] + X['NoOfEmptyRef'] + X['NoOfExternalRef']       \n",
    "#     X['resources'] = total\n",
    "#     return X\n",
    "# def feature_securing(data):\n",
    "    \n",
    "#     data['IsHTTPS'] = data['IsHTTPS'].astype(int)\n",
    "#     data['Robots'] = data['Robots'].astype(int)\n",
    "\n",
    "    \n",
    "#     conditions = [\n",
    "#         (data['IsHTTPS'] == 1) & (data['Robots'] == 1),  \n",
    "#         (data['IsHTTPS'] == 1) & (data['Robots'] == 0), \n",
    "#         (data['IsHTTPS'] == 0) & (data['Robots'] == 1),  \n",
    "#         (data['IsHTTPS'] == 0) & (data['Robots'] == 0), \n",
    "#     ]\n",
    "#     risks = [3, 2, 1, 0]\n",
    "\n",
    "   \n",
    "#     data['isHighRisk'] = np.select(conditions, risks)\n",
    "\n",
    "#     return data\n",
    "# def create_phishing_features(data):\n",
    "#     Phishing_Score = (\n",
    "#         data['HasExternalFormSubmit'] + \n",
    "#         data['HasPasswordField'] + \n",
    "#         data['Bank'] + \n",
    "#         data['Crypto']\n",
    "#     )\n",
    "#     Non_Phishing_Score = (\n",
    "#         data['IsResponsive'] + \n",
    "#         data['HasDescription'] + \n",
    "#         data['HasSocialNet'] + \n",
    "#         data['HasCopyrightInfo']\n",
    "#     )\n",
    "#     data['Phising'] = Phishing_Score\n",
    "\n",
    "\n",
    "#     return data\n",
    "\n",
    "# def calculate_weighted_score(data: pd.DataFrame, domain_weight: float = 0.6, url_weight: float = 0.4) -> pd.DataFrame:\n",
    "#     data['WeightedScore'] = (\n",
    "#         (domain_weight*data['DomainTitleMatchScore']) + \n",
    "#         (url_weight*data['URLTitleMatchScore'])\n",
    "#     )\n",
    "    \n",
    "#     return data\n",
    "\n",
    "# def create_NoNphishing_features(data):\n",
    "#     Non_Phishing_Score = (\n",
    "#         data['IsResponsive'] + \n",
    "#         data['HasDescription'] + \n",
    "#         data['HasSocialNet'] + \n",
    "#         data['HasCopyrightInfo']\n",
    "#     )\n",
    "#     data['Non_Phising'] = Non_Phishing_Score\n",
    "\n",
    "#     return data\n",
    "\n",
    "\n",
    "# def calculate_digit_special_char_ratio(df):\n",
    "#     df['DigitAndSpecialCharRatio'] = (df['NoOfDegitsInURL'] + df['NoOfOtherSpecialCharsInURL']) / df['URLLength']\n",
    "\n",
    "#     return df\n",
    "\n",
    "# def calculate_digit_special_char_alt_num(df):\n",
    "#     df['calculated_digit_num'] = df[\"DegitRatioInURL\"] * df[\"URLLength\"]\n",
    "#     df['calculated_special_num'] = df[\"SpacialCharRatioInURL\"] * df[\"URLLength\"]\n",
    "#     return df\n",
    "\n",
    "# def calculate_mult_special_digit_ratio(df):\n",
    "#     df[\"digit_special_mult\"] = df[\"DegitRatioInURL\"] * df[\"SpacialCharRatioInURL\"]\n",
    "#     return df\n",
    "\n",
    "# def apply_feature_engineering(X: pd.DataFrame) -> pd.DataFrame:\n",
    "#     X = calculate_total_resources(X)\n",
    "#     X = feature_securing(X)\n",
    "#     X = create_NoNphishing_features(X)\n",
    "#     X = calculate_weighted_score(X)\n",
    "#     X = calculate_digit_special_char_ratio(X)\n",
    "#     X = calculate_mult_special_digit_ratio(X)\n",
    "\n",
    "#     return X\n",
    "\n",
    "\n",
    "# # ? sengaja emg belom ak masukin. nanti skalian bareng pipeline\n"
   ]
  },
  {
   "cell_type": "code",
   "execution_count": 107,
   "metadata": {},
   "outputs": [],
   "source": [
    "\n",
    "def calculate_total_resources(X):\n",
    "    total = X['NoOfImage'] + X['NoOfCSS'] + X['NoOfJS'] + X['NoOfSelfRef'] + X['NoOfEmptyRef'] + X['NoOfExternalRef']       \n",
    "    X['resources'] = total\n",
    "    return X\n",
    "def feature_securing(data):\n",
    "    \n",
    "    data['IsHTTPS'] = data['IsHTTPS'].astype(int)\n",
    "    data['Robots'] = data['Robots'].astype(int)\n",
    "\n",
    "    \n",
    "    conditions = [\n",
    "        (data['IsHTTPS'] == 1) & (data['Robots'] == 1),  \n",
    "        (data['IsHTTPS'] == 1) & (data['Robots'] == 0), \n",
    "        (data['IsHTTPS'] == 0) & (data['Robots'] == 1),  \n",
    "        (data['IsHTTPS'] == 0) & (data['Robots'] == 0), \n",
    "    ]\n",
    "    risks = [3, 2, 1, 0]\n",
    "\n",
    "   \n",
    "    data['isHighRisk'] = np.select(conditions, risks)\n",
    "\n",
    "    return data\n",
    "def create_phishing_features(data):\n",
    "    Phishing_Score = (\n",
    "        data['HasExternalFormSubmit'] + \n",
    "        data['HasPasswordField'] + \n",
    "        data['Bank'] + \n",
    "        data['Crypto']\n",
    "    )\n",
    "    Non_Phishing_Score = (\n",
    "        data['IsResponsive'] + \n",
    "        data['HasDescription'] + \n",
    "        data['HasSocialNet'] + \n",
    "        data['HasCopyrightInfo']\n",
    "    )\n",
    "    data['Phising'] = Phishing_Score\n",
    "\n",
    "\n",
    "    return data\n",
    "\n",
    "def calculate_weighted_score(data: pd.DataFrame, domain_weight: float = 0.6, url_weight: float = 0.4) -> pd.DataFrame:\n",
    "    data['WeightedScore'] = (\n",
    "        (domain_weight*data['DomainTitleMatchScore']) + \n",
    "        (url_weight*data['URLTitleMatchScore'])\n",
    "    )\n",
    "    \n",
    "    return data\n",
    "\n",
    "def create_NoNphishing_features(data):\n",
    "    Non_Phishing_Score = (\n",
    "        data['IsResponsive'] + \n",
    "        data['HasDescription'] + \n",
    "        data['HasSocialNet'] + \n",
    "        data['HasCopyrightInfo']\n",
    "    )\n",
    "    data['Non_Phising'] = Non_Phishing_Score\n",
    "\n",
    "    return data\n",
    "\n",
    "\n",
    "def calculate_digit_special_char_ratio(df):\n",
    "    df['DigitAndSpecialCharRatio'] = (df['NoOfDegitsInURL'] + df['NoOfOtherSpecialCharsInURL']) / df['URLLength']\n",
    "\n",
    "    return df\n",
    "\n",
    "def calculate_digit_special_char_alt_num(df):\n",
    "    df['calculated_digit_num'] = df[\"DegitRatioInURL\"] * df[\"URLLength\"]\n",
    "    df['calculated_special_num'] = df[\"SpacialCharRatioInURL\"] * df[\"URLLength\"]\n",
    "    return df\n",
    "\n",
    "def calculate_mult_special_digit_ratio(df):\n",
    "    df[\"digit_special_mult\"] = df[\"DegitRatioInURL\"] * df[\"SpacialCharRatioInURL\"]\n",
    "    return df\n",
    "\n",
    "def create_is_https_line_interaction(df: pd.DataFrame) -> pd.DataFrame:\n",
    "\n",
    "    df[\"is_https_line_interaction\"] = df[\"IsHTTPS\"] * np.log(df[\"LineOfCode\"] + 1)\n",
    "    return df\n",
    "\n",
    "def create_image_js_ratio(df: pd.DataFrame) -> pd.DataFrame:\n",
    "\n",
    "    df[\"image_js_ratio\"] = (df[\"NoOfImage\"] + 1) / (df[\"NoOfJS\"] + 1)\n",
    "    return df\n",
    "\n",
    "\n",
    "\n",
    "def apply_feature_engineering(X: pd.DataFrame) -> pd.DataFrame:\n",
    "    \n",
    "    X = calculate_total_resources(X)\n",
    "    X = feature_securing(X)\n",
    "    X = create_NoNphishing_features(X)\n",
    "    X = calculate_weighted_score(X)\n",
    "    X = calculate_digit_special_char_ratio(X)\n",
    "    X = calculate_mult_special_digit_ratio(X)\n",
    "    \n",
    "    # ? tinggi di valid, rendah di test\n",
    "    # X = create_is_https_line_interaction(X)\n",
    "    # X = create_image_js_ratio(X)\n",
    "    \n",
    "    \n",
    "    return X\n"
   ]
  },
  {
   "cell_type": "code",
   "execution_count": 108,
   "metadata": {},
   "outputs": [],
   "source": [
    "def get_top_tld(series, top_n=4):\n",
    "    counts = series.value_counts()\n",
    "    return set(counts.index[:top_n])\n",
    "\n",
    "def lump_else(df, column, top_tlds):\n",
    "    df = df.copy()\n",
    "    df[column] = df[column].apply(lambda x: x if x in top_tlds else \"else\")\n",
    "    return df"
   ]
  },
  {
   "cell_type": "code",
   "execution_count": 109,
   "metadata": {},
   "outputs": [
    {
     "name": "stdout",
     "output_type": "stream",
     "text": [
      "Train top categories: {'org', 'com', 'net', 'uk'}\n"
     ]
    }
   ],
   "source": [
    "top_4_in_train = get_top_tld(train_set[\"TLD\"], top_n=4)\n",
    "print(\"Train top categories:\", top_4_in_train)"
   ]
  },
  {
   "cell_type": "code",
   "execution_count": 110,
   "metadata": {},
   "outputs": [],
   "source": [
    "train_set = lump_else(train_set, \"TLD\", top_4_in_train)\n",
    "val_set = lump_else(val_set, \"TLD\", top_4_in_train)\n",
    "df_test = lump_else(df_test, \"TLD\", top_4_in_train)"
   ]
  },
  {
   "cell_type": "code",
   "execution_count": 111,
   "metadata": {},
   "outputs": [],
   "source": [
    "from sklearn.base import BaseEstimator, TransformerMixin\n",
    "\n",
    "class FeatureEncoder(BaseEstimator, TransformerMixin):\n",
    "    \n",
    "    def fit(self, X, y=None):\n",
    "        return self\n",
    "    \n",
    "    def transform(self, X):\n",
    "        X_encoded = X.copy()\n",
    "        \n",
    "        \n",
    "        cat_cols = X.select_dtypes(include=['object']).columns\n",
    "        \n",
    "        for col in cat_cols:\n",
    "            \n",
    "            one_hot = pd.get_dummies(X_encoded[col], prefix=col, dtype=int)\n",
    "           \n",
    "            X_encoded = pd.concat([X_encoded, one_hot], axis=1)\n",
    "        \n",
    "            X_encoded.drop(col, axis=1, inplace=True)\n",
    "        \n",
    "        return X_encoded\n"
   ]
  },
  {
   "cell_type": "code",
   "execution_count": 112,
   "metadata": {},
   "outputs": [],
   "source": [
    "encoder = FeatureEncoder()"
   ]
  },
  {
   "cell_type": "code",
   "execution_count": 113,
   "metadata": {},
   "outputs": [],
   "source": [
    "train_set = train_set.drop(columns=[\"FILENAME\",'URL', \"Domain\", \"Title\"])\n",
    "val_set = val_set.drop(columns=[\"FILENAME\",'URL', \"Domain\", \"Title\"])\n",
    "df_test = df_test.drop(columns=[\"FILENAME\",'URL', \"Domain\", \"Title\"])\n"
   ]
  },
  {
   "cell_type": "code",
   "execution_count": 114,
   "metadata": {},
   "outputs": [],
   "source": [
    "# train_set = encoder.fit_transform(train_set)\n",
    "# val_set = encoder.transform(val_set)\n",
    "# df_test = encoder.transform(df_test)\n"
   ]
  },
  {
   "cell_type": "code",
   "execution_count": 115,
   "metadata": {},
   "outputs": [],
   "source": [
    "train_set = train_set.drop(columns=train_set.select_dtypes(include='object').columns)\n",
    "val_set = val_set.drop(columns=val_set.select_dtypes(include='object').columns)\n",
    "df_test = df_test.drop(columns=df_test.select_dtypes(include='object').columns)\n"
   ]
  },
  {
   "cell_type": "code",
   "execution_count": 116,
   "metadata": {},
   "outputs": [],
   "source": [
    "train_set = apply_feature_engineering(train_set)\n",
    "val_set = apply_feature_engineering(val_set)\n",
    "df_test = apply_feature_engineering(df_test)\n"
   ]
  },
  {
   "cell_type": "code",
   "execution_count": 117,
   "metadata": {},
   "outputs": [],
   "source": [
    "from sklearn.preprocessing import PowerTransformer\n",
    "\n",
    "# ? fungsi paling ngaruh so far sepertinya\n",
    "def auto_transform_features(X_train: pd.DataFrame, X_test: pd.DataFrame, skew_threshold: float = 1.0, target_column: str = 'label') -> (pd.DataFrame, pd.DataFrame):\n",
    "    transformer_dict = {}  # Store transformers for each column\n",
    "    \n",
    "    for col in X_train.columns:\n",
    "        if col != target_column and np.issubdtype(X_train[col].dtype, np.number):  # Apply only to numeric columns\n",
    "            skewness = X_train[col].skew()\n",
    "            if abs(skewness) > skew_threshold:\n",
    "                if skewness > 0:  \n",
    "                    X_train[col] = np.log1p(X_train[col]) \n",
    "                    X_test[col] = np.log1p(X_test[col]) \n",
    "                else: \n",
    "                    transformer = PowerTransformer(method='yeo-johnson')\n",
    "                    # transformer = PowerTransformer(method='box-cox')\n",
    "                    X_train[col] = transformer.fit_transform(X_train[col].values.reshape(-1, 1)).flatten()\n",
    "                    X_test[col] = transformer.transform(X_test[col].values.reshape(-1, 1)).flatten()\n",
    "                    transformer_dict[col] = transformer  \n",
    "    \n",
    "    return X_train, X_test\n",
    "\n",
    "# ?todo jan lupa uncomment\n",
    "train_set_arg = train_set.copy()\n",
    "\n",
    "train_set, df_test = auto_transform_features(train_set_arg.copy(), df_test.copy())\n",
    "\n",
    "\n",
    "_, val_set = auto_transform_features(train_set_arg.copy(), val_set.copy())\n"
   ]
  },
  {
   "cell_type": "code",
   "execution_count": 118,
   "metadata": {},
   "outputs": [],
   "source": [
    "# feature selction by correlationny (mnurut ktia ya)\n",
    "train_set=train_set.drop(columns=['id', 'IsDomainIP', 'TLDLength', 'NoOfSubDomain', 'HasObfuscation', 'NoOfObfuscatedChar', 'ObfuscationRatio', 'NoOfAmpersandInURL', 'NoOfURLRedirect', 'NoOfSelfRedirect', 'NoOfPopup', 'HasExternalFormSubmit', 'HasPasswordField', 'Bank', 'Crypto','TLDLegitimateProb','DomainLength','NoOfEqualsInURL','NoOfQMarkInURL'])\n",
    "df_test=df_test.drop(columns=['id', 'IsDomainIP', 'TLDLength', 'NoOfSubDomain', 'HasObfuscation', 'NoOfObfuscatedChar', 'ObfuscationRatio', 'NoOfAmpersandInURL', 'NoOfURLRedirect', 'NoOfSelfRedirect', 'NoOfPopup', 'HasExternalFormSubmit', 'HasPasswordField', 'Bank', 'Crypto','TLDLegitimateProb','DomainLength','NoOfEqualsInURL','NoOfQMarkInURL'])\n",
    "\n",
    "\n",
    "val_set=val_set.drop(columns=['id', 'IsDomainIP', 'TLDLength', 'NoOfSubDomain', 'HasObfuscation', 'NoOfObfuscatedChar', 'ObfuscationRatio', 'NoOfAmpersandInURL', 'NoOfURLRedirect', 'NoOfSelfRedirect', 'NoOfPopup', 'HasExternalFormSubmit', 'HasPasswordField', 'Bank', 'Crypto','TLDLegitimateProb','DomainLength','NoOfEqualsInURL','NoOfQMarkInURL'])\n"
   ]
  },
  {
   "cell_type": "markdown",
   "metadata": {
    "id": "xw11_49xLfHb"
   },
   "source": [
    "## B. Data Preprocessing\n",
    "\n",
    "**Data preprocessing** is a broader step that encompasses both data cleaning and additional transformations to make the data suitable for machine learning algorithms. Its primary goals are:\n",
    "\n",
    "1. **Feature Scaling:** Ensure that numerical features have similar scales. Common techniques include Min-Max scaling (scaling to a specific range) or standardization (mean-centered, unit variance).\n",
    "\n",
    "2. **Encoding Categorical Variables:** Machine learning models typically work with numerical data, so categorical variables need to be encoded. This can be done using one-hot encoding, label encoding, or more advanced methods like target encoding.\n",
    "\n",
    "3. **Handling Imbalanced Classes:** If dealing with imbalanced classes in a binary classification task, apply techniques such as oversampling, undersampling, or using different evaluation metrics to address class imbalance.\n",
    "\n",
    "4. **Dimensionality Reduction:** Reduce the number of features using techniques like Principal Component Analysis (PCA) or feature selection to simplify the model and potentially improve its performance.\n",
    "\n",
    "5. **Normalization:** Normalize data to achieve a standard distribution. This is particularly important for algorithms that assume normally distributed data."
   ]
  },
  {
   "cell_type": "markdown",
   "metadata": {
    "id": "WhCgOl4xLfHb"
   },
   "source": [
    "### I. Feature Scaling\n",
    "\n",
    "**Feature scaling** is a preprocessing technique used in machine learning to standardize the range of independent variables or features of data. The primary goal of feature scaling is to ensure that all features contribute equally to the training process and that machine learning algorithms can work effectively with the data.\n",
    "\n",
    "Here are the main reasons why feature scaling is important:\n",
    "\n",
    "1. **Algorithm Sensitivity:** Many machine learning algorithms are sensitive to the scale of input features. If the scales of features are significantly different, some algorithms may perform poorly or take much longer to converge.\n",
    "\n",
    "2. **Distance-Based Algorithms:** Algorithms that rely on distances or similarities between data points, such as k-nearest neighbors (KNN) and support vector machines (SVM), can be influenced by feature scales. Features with larger scales may dominate the distance calculations.\n",
    "\n",
    "3. **Regularization:** Regularization techniques, like L1 (Lasso) and L2 (Ridge) regularization, add penalty terms based on feature coefficients. Scaling ensures that all features are treated equally in the regularization process.\n",
    "\n",
    "Common methods for feature scaling include:\n",
    "\n",
    "1. **Min-Max Scaling (Normalization):** This method scales features to a specific range, typically [0, 1]. It's done using the following formula:\n",
    "\n",
    "   $$X' = \\frac{X - X_{min}}{X_{max} - X_{min}}$$\n",
    "\n",
    "   - Here, $X$ is the original feature value, $X_{min}$ is the minimum value of the feature, and $X_{max}$ is the maximum value of the feature.  \n",
    "<br />\n",
    "<br />\n",
    "2. **Standardization (Z-score Scaling):** This method scales features to have a mean (average) of 0 and a standard deviation of 1. It's done using the following formula:\n",
    "\n",
    "   $$X' = \\frac{X - \\mu}{\\sigma}$$\n",
    "\n",
    "   - $X$ is the original feature value, $\\mu$ is the mean of the feature, and $\\sigma$ is the standard deviation of the feature.  \n",
    "<br />\n",
    "<br />\n",
    "3. **Robust Scaling:** Robust scaling is a method that scales features to the interquartile range (IQR) and is less affected by outliers. It's calculated as:\n",
    "\n",
    "   $$X' = \\frac{X - Q1}{Q3 - Q1}$$\n",
    "\n",
    "   - $X$ is the original feature value, $Q1$ is the first quartile (25th percentile), and $Q3$ is the third quartile (75th percentile) of the feature.  \n",
    "<br />\n",
    "<br />\n",
    "4. **Log Transformation:** In cases where data is highly skewed or has a heavy-tailed distribution, taking the logarithm of the feature values can help stabilize the variance and improve scaling.\n",
    "\n",
    "The choice of scaling method depends on the characteristics of your data and the requirements of your machine learning algorithm. **Min-max scaling and standardization are the most commonly used techniques and work well for many datasets.**\n",
    "\n",
    "Scaling should be applied separately to each training and test set to prevent data leakage from the test set into the training set. Additionally, **some algorithms may not require feature scaling, particularly tree-based models.**"
   ]
  },
  {
   "cell_type": "code",
   "execution_count": 119,
   "metadata": {},
   "outputs": [],
   "source": [
    "def check_outliers_iqr(df, col):\n",
    "    col_Q1 = df[col].quantile(0.25)\n",
    "    col_Q3 = df[col].quantile(0.75)\n",
    "    col_IQR = col_Q3 - col_Q1\n",
    "    col_RLB = col_Q1 - 1.5 * col_IQR\n",
    "    col_RUB = col_Q3 + 1.5 * col_IQR\n",
    "    outliers = len(df.loc[(df[col] > col_RUB) | (df[col] < col_RLB)])\n",
    "    return outliers / len(df) * 100\n",
    "numeric_cols = train_set.select_dtypes(include=['float64', 'int64']).columns.tolist()\n",
    "attributes = []\n",
    "for col in numeric_cols:\n",
    "    if col != 'label':\n",
    "        outlier_percent = check_outliers_iqr(train_set, col)\n",
    "        if outlier_percent > 5:\n",
    "            attributes.append(col)"
   ]
  },
  {
   "cell_type": "code",
   "execution_count": 120,
   "metadata": {
    "id": "COef9EbCLfHb"
   },
   "outputs": [],
   "source": [
    "from sklearn.preprocessing import RobustScaler\n",
    "scaler = RobustScaler()\n",
    "train_set[attributes] = scaler.fit_transform(train_set[attributes])\n",
    "val_set[attributes] = scaler.transform(val_set[attributes])\n",
    "df_test[attributes] = scaler.transform(df_test[attributes])\n"
   ]
  },
  {
   "cell_type": "markdown",
   "metadata": {
    "id": "f_Lh-4JwLfHc"
   },
   "source": [
    "### II. Feature Encoding\n",
    "\n",
    "**Feature encoding**, also known as **categorical encoding**, is the process of converting categorical data (non-numeric data) into a numerical format so that it can be used as input for machine learning algorithms. Most machine learning models require numerical data for training and prediction, so feature encoding is a critical step in data preprocessing.\n",
    "\n",
    "Categorical data can take various forms, including:\n",
    "\n",
    "1. **Nominal Data:** Categories with no intrinsic order, like colors or country names.  \n",
    "\n",
    "2. **Ordinal Data:** Categories with a meaningful order but not necessarily equidistant, like education levels (e.g., \"high school,\" \"bachelor's,\" \"master's\").\n",
    "\n",
    "There are several common methods for encoding categorical data:\n",
    "\n",
    "1. **Label Encoding:**\n",
    "\n",
    "   - Label encoding assigns a unique integer to each category in a feature.\n",
    "   - It's suitable for ordinal data where there's a clear order among categories.\n",
    "   - For example, if you have an \"education\" feature with values \"high school,\" \"bachelor's,\" and \"master's,\" you can encode them as 0, 1, and 2, respectively.\n",
    "<br />\n",
    "<br />\n",
    "2. **One-Hot Encoding:**\n",
    "\n",
    "   - One-hot encoding creates a binary (0 or 1) column for each category in a nominal feature.\n",
    "   - It's suitable for nominal data where there's no inherent order among categories.\n",
    "   - Each category becomes a new feature, and the presence (1) or absence (0) of a category is indicated for each row.\n",
    "<br />\n",
    "<br />\n",
    "3. **Target Encoding (Mean Encoding):**\n",
    "\n",
    "   - Target encoding replaces each category with the mean of the target variable for that category.\n",
    "   - It's often used for classification problems."
   ]
  },
  {
   "cell_type": "code",
   "execution_count": 121,
   "metadata": {
    "id": "psElSUugLfHc"
   },
   "outputs": [],
   "source": [
    "from sklearn.base import BaseEstimator, TransformerMixin\n",
    "class FeatureEncoder(BaseEstimator, TransformerMixin):\n",
    "    \n",
    "    def fit(self, X, y=None):\n",
    "        return self\n",
    "    \n",
    "    def transform(self, X):\n",
    "        X_encoded = X.copy()\n",
    "        \n",
    "        cat_cols = X.select_dtypes(include=['object'])\n",
    "        \n",
    "        for col in cat_cols:\n",
    "            \n",
    "            # Perform one-hot encoding\n",
    "            X_encoded = pd.concat([X_encoded, pd.get_dummies(X_encoded[col], prefix=col)], axis=1)\n",
    "\n",
    "            # Drop original categorical columns from DataFrame\n",
    "            X_encoded.drop(col, axis=1, inplace=True)\n",
    "        \n",
    "        return X_encoded"
   ]
  },
  {
   "cell_type": "markdown",
   "metadata": {
    "id": "jKQO9wtB8Pc0"
   },
   "source": [
    "### III. Handling Imbalanced Dataset\n",
    "\n",
    "**Handling imbalanced datasets** is important because imbalanced data can lead to several issues that negatively impact the performance and reliability of machine learning models. Here are some key reasons:\n",
    "\n",
    "1. **Biased Model Performance**:\n",
    "\n",
    " - Models trained on imbalanced data tend to be biased towards the majority class, leading to poor performance on the minority class. This can result in misleading accuracy metrics.\n",
    "\n",
    "2. **Misleading Accuracy**:\n",
    "\n",
    " - High overall accuracy can be misleading in imbalanced datasets. For example, if 95% of the data belongs to one class, a model that always predicts the majority class will have 95% accuracy but will fail to identify the minority class.\n",
    "\n",
    "3. **Poor Generalization**:\n",
    "\n",
    " - Models trained on imbalanced data may not generalize well to new, unseen data, especially if the minority class is underrepresented.\n",
    "\n",
    "\n",
    "Some methods to handle imbalanced datasets:\n",
    "1. **Resampling Methods**:\n",
    "\n",
    " - Oversampling: Increase the number of instances in the minority class by duplicating or generating synthetic samples (e.g., SMOTE).\n",
    " - Undersampling: Reduce the number of instances in the majority class to balance the dataset.\n",
    "\n",
    "2. **Evaluation Metrics**:\n",
    "\n",
    " - Use appropriate evaluation metrics such as precision, recall, F1-score, ROC-AUC, and confusion matrix instead of accuracy to better assess model performance on imbalanced data.\n",
    "\n",
    "3. **Algorithmic Approaches**:\n",
    "\n",
    " - Use algorithms that are designed to handle imbalanced data, such as decision trees, random forests, or ensemble methods.\n",
    " - Adjust class weights in algorithms to give more importance to the minority class."
   ]
  },
  {
   "cell_type": "code",
   "execution_count": 122,
   "metadata": {},
   "outputs": [],
   "source": [
    "from sklearn.model_selection import train_test_split\n",
    "from sklearn.neighbors import KNeighborsClassifier\n",
    "from sklearn.metrics import accuracy_score, f1_score, recall_score, cohen_kappa_score, balanced_accuracy_score, classification_report\n",
    "from imblearn.over_sampling import SMOTE\n",
    "from imblearn.combine import SMOTEENN\n",
    "from imblearn.combine import SMOTETomek"
   ]
  },
  {
   "cell_type": "code",
   "execution_count": 123,
   "metadata": {
    "id": "u2BQd2XJ9W1i"
   },
   "outputs": [],
   "source": [
    "def my_smote(X_before, y_before):\n",
    "    smote = SMOTE(random_state=42)\n",
    "    X_after, y_after = smote.fit_resample(X_before, y_before)\n",
    "    return X_after, y_after\n",
    "\n",
    "def my_smotenn(X_before, y_before):\n",
    "    smotenn = SMOTEENN(random_state=42)\n",
    "    X_after, y_after = smotenn.fit_resample(X_before, y_before)\n",
    "    return X_after, y_after\n",
    "\n",
    "def my_smotetomek(X_before, y_before):\n",
    "    smotetomek = SMOTETomek(random_state=42)\n",
    "    X_after, y_after = smotetomek.fit_resample(X_before, y_before)\n",
    "    return X_after, y_after\n"
   ]
  },
  {
   "cell_type": "code",
   "execution_count": 124,
   "metadata": {},
   "outputs": [],
   "source": [
    "# from sklearn.decomposition import PCA\n",
    "# pca = PCA(n_components=33)\n"
   ]
  },
  {
   "cell_type": "markdown",
   "metadata": {
    "id": "-ctVzt5DLfHd"
   },
   "source": [
    "# 3. Compile Preprocessing Pipeline\n",
    "\n",
    "All of the preprocessing classes or functions defined earlier will be compiled in this step."
   ]
  },
  {
   "cell_type": "markdown",
   "metadata": {
    "id": "S_ZlncSVjJG6"
   },
   "source": [
    "If you use sklearn to create preprocessing classes, you can list your preprocessing classes in the Pipeline object sequentially, and then fit and transform your data."
   ]
  },
  {
   "cell_type": "code",
   "execution_count": 125,
   "metadata": {
    "id": "jHraoW_7LfHd"
   },
   "outputs": [],
   "source": [
    "# from sklearn.pipeline import Pipeline\n",
    "\n",
    "# # Note: You can add or delete preprocessing components from this pipeline\n",
    "\n",
    "# pipe = Pipeline([(\"imputer\", FeatureImputer()),\n",
    "#                  (\"featurecreator\", FeatureCreator()),\n",
    "#                  (\"scaler\", FeatureScaler()),\n",
    "#                  (\"encoder\", FeatureEncoder())])\n",
    "\n",
    "# train_set = pipe.fit_transform(train_set)\n",
    "# val_set = pipe.transform(val_set)"
   ]
  },
  {
   "cell_type": "code",
   "execution_count": 126,
   "metadata": {
    "id": "9s56aFFxLfHd"
   },
   "outputs": [],
   "source": [
    "# # Your code should work up until this point\n",
    "# train_set = pipe.fit_transform(train_set)\n",
    "# val_set = pipe.transform(val_set)"
   ]
  },
  {
   "cell_type": "markdown",
   "metadata": {
    "id": "SXoCqMztjhr-"
   },
   "source": [
    "or create your own here"
   ]
  },
  {
   "cell_type": "code",
   "execution_count": 127,
   "metadata": {
    "id": "7OoZ3oXEj2CW"
   },
   "outputs": [],
   "source": [
    "# Write your code here"
   ]
  },
  {
   "cell_type": "markdown",
   "metadata": {
    "id": "9A3adbZXLfHe"
   },
   "source": [
    "# 4. Modeling and Validation\n",
    "\n",
    "Modelling is the process of building your own machine learning models to solve specific problems, or in this assignment context, predicting the target feature `label`. Validation is the process of evaluating your trained model using the validation set or cross-validation method and providing some metrics that can help you decide what to do in the next iteration of development."
   ]
  },
  {
   "cell_type": "code",
   "execution_count": 128,
   "metadata": {},
   "outputs": [],
   "source": [
    "X_train = train_set.drop(columns=[\"label\"])\n",
    "y_train = train_set['label']\n"
   ]
  },
  {
   "cell_type": "code",
   "execution_count": 129,
   "metadata": {},
   "outputs": [],
   "source": [
    "X_val= val_set.drop(columns=[\"label\"])\n",
    "y_val = val_set['label']"
   ]
  },
  {
   "cell_type": "code",
   "execution_count": 130,
   "metadata": {},
   "outputs": [],
   "source": [
    "X_train, y_train = my_smote(X_train, y_train)\n",
    "\n",
    "\n",
    "X_train_temp = X_train.copy()\n",
    "y_train_temp = y_train.copy()\n"
   ]
  },
  {
   "cell_type": "markdown",
   "metadata": {
    "id": "ZnhMNbBILfHf"
   },
   "source": [
    "## A. KNN"
   ]
  },
  {
   "cell_type": "code",
   "execution_count": 131,
   "metadata": {
    "id": "KV6ICmFmlqjk"
   },
   "outputs": [],
   "source": [
    "# INI DRI LIBRARY\n",
    "from sklearn.neighbors import KNeighborsClassifier\n",
    "knn = KNeighborsClassifier(n_neighbors=1)\n",
    "knn.fit(X_train_temp, y_train_temp)\n",
    "knn_pred = knn.predict(X_val)"
   ]
  },
  {
   "cell_type": "code",
   "execution_count": 132,
   "metadata": {},
   "outputs": [
    {
     "name": "stdout",
     "output_type": "stream",
     "text": [
      "Accuracy: 0.9921299099034935\n",
      "F1 Score: 0.9921324767211115\n",
      "Recall Score: 0.9921299099034935\n",
      "Balanced Accuracy: 0.9720265174972325\n",
      "KNeighbors Classifier\n",
      "              precision    recall  f1-score   support\n",
      "\n",
      "           0       0.95      0.95      0.95      2111\n",
      "           1       1.00      1.00      1.00     25970\n",
      "\n",
      "    accuracy                           0.99     28081\n",
      "   macro avg       0.97      0.97      0.97     28081\n",
      "weighted avg       0.99      0.99      0.99     28081\n",
      "\n",
      "\n"
     ]
    }
   ],
   "source": [
    "from sklearn.metrics import accuracy_score, f1_score, recall_score, cohen_kappa_score, balanced_accuracy_score, classification_report\n",
    "print(f'Accuracy: {accuracy_score(y_val, knn_pred)}')\n",
    "print(f'F1 Score: {f1_score(y_val, knn_pred, average=\"weighted\")}')\n",
    "print(f'Recall Score: {recall_score(y_val, knn_pred, average=\"weighted\")}')\n",
    "print(f\"Balanced Accuracy: {balanced_accuracy_score(y_val, knn_pred)}\")\n",
    "print(\"KNeighbors Classifier\")\n",
    "print(classification_report(y_val, knn_pred))\n",
    "print()"
   ]
  },
  {
   "cell_type": "code",
   "execution_count": 133,
   "metadata": {},
   "outputs": [],
   "source": [
    "# ?TODO DISTANCE versi lain\n",
    "class KNearestNeighbors:\n",
    "    def __init__(self, k=3):\n",
    "        self.k = k\n",
    "        self.X_train = None\n",
    "        self.y_train = None\n",
    "    \n",
    "    def fit(self, X, y):\n",
    "        self.X_train = np.array(X)\n",
    "        self.y_train = np.array(y)\n",
    "    \n",
    "    def predict(self, X):\n",
    "        X = np.array(X)\n",
    "        y_pred = []\n",
    "        \n",
    "        for x_new in X:\n",
    "            distances = np.sqrt(np.sum((self.X_train - x_new) ** 2, axis=1))\n",
    "            \n",
    "            nearest_indices = np.argsort(distances)[:self.k]\n",
    "            nearest_labels = self.y_train[nearest_indices]\n",
    "            \n",
    "            labels, counts = np.unique(nearest_labels, return_counts=True)\n",
    "            majority_label = labels[np.argmax(counts)]\n",
    "            \n",
    "            y_pred.append(majority_label)\n",
    "        \n",
    "        return np.array(y_pred)\n",
    "    "
   ]
  },
  {
   "cell_type": "code",
   "execution_count": 134,
   "metadata": {},
   "outputs": [],
   "source": [
    "# ? new (jan hapus yang atas, buat referensi)\n",
    "class KNearestNeighbors:\n",
    "    def __init__(self, k=3, distance='euclidean', p=2):\n",
    "        self.k = k\n",
    "        self.distance = distance\n",
    "        self.p = p\n",
    "        self.X_train = None\n",
    "        self.y_train = None\n",
    "    \n",
    "    def fit(self, X, y):\n",
    "        self.X_train = np.array(X)\n",
    "        self.y_train = np.array(y)\n",
    "\n",
    "    def _compute_distance(self, x_new):\n",
    "        if self.distance == 'euclidean':\n",
    "            distances = np.sqrt(np.sum((self.X_train - x_new) ** 2, axis=1))\n",
    "        elif self.distance == 'manhattan':\n",
    "            distances = np.sum(np.abs(self.X_train - x_new), axis=1)\n",
    "        elif self.distance == 'minkowski':\n",
    "            distances = np.sum(np.abs(self.X_train - x_new) ** self.p, axis=1) ** (1 / self.p)\n",
    "        else:\n",
    "            raise ValueError(\"Pilih 'euclidean', 'manhattan', atau 'minkowski'.\")\n",
    "        \n",
    "        return distances\n",
    "    \n",
    "    def predict(self, X):\n",
    "        X = np.array(X)\n",
    "        y_pred = []\n",
    "        \n",
    "        for x_new in X:\n",
    "            distances = self._compute_distance(x_new)\n",
    "            nearest_indices = np.argsort(distances)[:self.k]\n",
    "            nearest_labels = self.y_train[nearest_indices]\n",
    "            labels, counts = np.unique(nearest_labels, return_counts=True)\n",
    "            majority_label = labels[np.argmax(counts)]\n",
    "            \n",
    "            y_pred.append(majority_label)\n",
    "        \n",
    "        return np.array(y_pred)"
   ]
  },
  {
   "cell_type": "code",
   "execution_count": 135,
   "metadata": {},
   "outputs": [],
   "source": [
    "# ? buat val set\n",
    "# knn = KNearestNeighbors(k = 3)\n",
    "# knn.fit(X_train, y_train)\n",
    "# knn_pred = knn.predict(X_val)"
   ]
  },
  {
   "cell_type": "code",
   "execution_count": 136,
   "metadata": {},
   "outputs": [],
   "source": [
    "# print(f'Accuracy: {accuracy_score(y_val, knn_pred)}')\n",
    "# print(f'F1 Score: {f1_score(y_val, knn_pred, average=\"weighted\")}')\n",
    "# print(f'Recall Score: {recall_score(y_val, knn_pred, average=\"weighted\")}')\n",
    "# print(f\"Balanced Accuracy: {balanced_accuracy_score(y_val, knn_pred)}\")\n",
    "\n",
    "\n",
    "# print(classification_report(y_val, knn_pred))"
   ]
  },
  {
   "cell_type": "code",
   "execution_count": 137,
   "metadata": {},
   "outputs": [],
   "source": [
    "# knn = KNearestNeighbors(k = 3)\n",
    "# knn.fit(X_train, y_train)\n",
    "\n",
    "# submission = pd.read_csv('sample_submission.csv')\n",
    "# submission['label'] = knn.predict(df_test) \n",
    "# submission.to_csv('submission_kk.csv', index=False)\n",
    "# submission.head()"
   ]
  },
  {
   "cell_type": "code",
   "execution_count": 138,
   "metadata": {},
   "outputs": [],
   "source": [
    "import pickle\n"
   ]
  },
  {
   "cell_type": "code",
   "execution_count": 139,
   "metadata": {},
   "outputs": [],
   "source": [
    "pickle.dump(knn, open(\"knn.pkl\", \"wb\"))\n"
   ]
  },
  {
   "cell_type": "markdown",
   "metadata": {
    "id": "nW0bMzkDLfHf"
   },
   "source": [
    "## B. Naive Bayes"
   ]
  },
  {
   "cell_type": "code",
   "execution_count": 140,
   "metadata": {},
   "outputs": [
    {
     "name": "stdout",
     "output_type": "stream",
     "text": [
      "Accuracy: 0.9844734874114169\n",
      "F1 Score: 0.9848037380765484\n",
      "Recall Score: 0.9844734874114169\n",
      "Balanced Accuracy: 0.9665815163690494\n",
      "Gaussian Naive Bayes\n",
      "              precision    recall  f1-score   support\n",
      "\n",
      "           0       0.86      0.95      0.90      2111\n",
      "           1       1.00      0.99      0.99     25970\n",
      "\n",
      "    accuracy                           0.98     28081\n",
      "   macro avg       0.93      0.97      0.95     28081\n",
      "weighted avg       0.99      0.98      0.98     28081\n",
      "\n"
     ]
    }
   ],
   "source": [
    "from sklearn.naive_bayes import GaussianNB\n",
    "\n",
    "\n",
    "gnb_lib = GaussianNB()\n",
    "\n",
    "\n",
    "gnb_lib.fit(X_train_temp, y_train_temp)\n",
    "\n",
    "\n",
    "gnb_lib_pred = gnb_lib.predict(X_val)\n",
    "\n",
    "\n",
    "print(f'Accuracy: {accuracy_score(y_val, gnb_lib_pred)}')\n",
    "print(f'F1 Score: {f1_score(y_val, gnb_lib_pred, average=\"weighted\")}')\n",
    "print(f'Recall Score: {recall_score(y_val, gnb_lib_pred, average=\"weighted\")}')\n",
    "print(f\"Balanced Accuracy: {balanced_accuracy_score(y_val, gnb_lib_pred)}\")\n",
    "print(\"Gaussian Naive Bayes\")\n",
    "print(classification_report(y_val, gnb_lib_pred))"
   ]
  },
  {
   "cell_type": "code",
   "execution_count": 141,
   "metadata": {
    "id": "C_XwsN_-LfHg"
   },
   "outputs": [],
   "source": [
    "# ? TODO pahami gaussian\n",
    "class GaussianNaiveBayes:\n",
    "    def __init__(self):\n",
    "        self.classes_ = None\n",
    "        self.priors_ = {}\n",
    "        self.means_ = {}\n",
    "        self.vars_ = {}\n",
    "    \n",
    "    def fit(self, X, y):\n",
    "        if isinstance(X, pd.DataFrame):\n",
    "            X = X.values\n",
    "        if isinstance(y, pd.Series):\n",
    "            y = y.values\n",
    "        self.classes_ = np.unique(y)\n",
    "\n",
    "        for cls in self.classes_:\n",
    "            X_cls = X[y == cls]\n",
    "            self.priors_[cls] = X_cls.shape[0] / X.shape[0]\n",
    "            self.means_[cls] = np.mean(X_cls, axis=0)\n",
    "            self.vars_[cls] = np.var(X_cls, axis=0) + 1e-9  # ditambah sedikit agar tidak division by zero\n",
    "    \n",
    "    def _pdf(self, x, mean, var):\n",
    "        coeff = 1.0 / np.sqrt(2.0 * np.pi * var)\n",
    "        exponent = np.exp(- (x - mean)**2 / (2 * var))\n",
    "        return coeff * exponent\n",
    "    \n",
    "    def _class_likelihood(self, x):\n",
    "        posteriors = {}\n",
    "        for cls in self.classes_:\n",
    "            prior = np.log(self.priors_[cls]) \n",
    "            likelihoods = np.sum(np.log(self._pdf(x, self.means_[cls], self.vars_[cls])))\n",
    "            posterior = prior + likelihoods\n",
    "            posteriors[cls] = posterior\n",
    "        return posteriors\n",
    "    \n",
    "    def predict(self, X):\n",
    "        if isinstance(X, pd.DataFrame):\n",
    "            X = X.values\n",
    "            \n",
    "        y_pred = []\n",
    "        for x in X:\n",
    "            posteriors = self._class_likelihood(x)\n",
    "            cls = max(posteriors, key=posteriors.get)\n",
    "            y_pred.append(cls)\n",
    "        return np.array(y_pred)"
   ]
  },
  {
   "cell_type": "code",
   "execution_count": 142,
   "metadata": {},
   "outputs": [],
   "source": [
    "gnb = GaussianNaiveBayes()"
   ]
  },
  {
   "cell_type": "code",
   "execution_count": 143,
   "metadata": {},
   "outputs": [
    {
     "name": "stderr",
     "output_type": "stream",
     "text": [
      "C:\\Users\\AleJo\\AppData\\Local\\Temp\\ipykernel_19436\\1068781457.py:31: RuntimeWarning: divide by zero encountered in log\n",
      "  likelihoods = np.sum(np.log(self._pdf(x, self.means_[cls], self.vars_[cls])))\n"
     ]
    }
   ],
   "source": [
    "gnb.fit(X_train_temp,y_train_temp)\n",
    "gnb_pred = gnb.predict(X_val)\n",
    "\n"
   ]
  },
  {
   "cell_type": "code",
   "execution_count": 144,
   "metadata": {},
   "outputs": [
    {
     "name": "stdout",
     "output_type": "stream",
     "text": [
      "Accuracy: 0.984793988818062\n",
      "F1 Score: 0.9850648263397085\n",
      "Recall Score: 0.984793988818062\n",
      "Balanced Accuracy: 0.9639259725949137\n",
      "GNB\n",
      "              precision    recall  f1-score   support\n",
      "\n",
      "           0       0.87      0.94      0.90      2111\n",
      "           1       1.00      0.99      0.99     25970\n",
      "\n",
      "    accuracy                           0.98     28081\n",
      "   macro avg       0.93      0.96      0.95     28081\n",
      "weighted avg       0.99      0.98      0.99     28081\n",
      "\n",
      "\n"
     ]
    }
   ],
   "source": [
    "print(f'Accuracy: {accuracy_score(y_val, gnb_pred)}')\n",
    "print(f'F1 Score: {f1_score(y_val, gnb_pred, average=\"weighted\")}')\n",
    "print(f'Recall Score: {recall_score(y_val, gnb_pred, average=\"weighted\")}')\n",
    "print(f\"Balanced Accuracy: {balanced_accuracy_score(y_val, gnb_pred)}\")\n",
    "print(\"GNB\")\n",
    "print(classification_report(y_val, gnb_pred))\n",
    "print()"
   ]
  },
  {
   "cell_type": "code",
   "execution_count": 145,
   "metadata": {},
   "outputs": [],
   "source": [
    "# gnb.fit(X_train,y_train)\n",
    "# gnb_pred = gnb.predict(df_test)"
   ]
  },
  {
   "cell_type": "code",
   "execution_count": 146,
   "metadata": {},
   "outputs": [],
   "source": [
    "# print(f'Accuracy: {accuracy_score(y_val, gnb_pred)}')\n",
    "# print(f'F1 Score: {f1_score(y_val, gnb_pred, average=\"weighted\")}')\n",
    "# print(f'Recall Score: {recall_score(y_val, gnb_pred, average=\"weighted\")}')\n",
    "# print(f\"Balanced Accuracy: {balanced_accuracy_score(y_val, gnb_pred)}\")\n",
    "# print(\"KNeighbors Classifier\")\n",
    "# print(classification_report(y_val, gnb_pred))\n",
    "# print()"
   ]
  },
  {
   "cell_type": "code",
   "execution_count": 147,
   "metadata": {},
   "outputs": [
    {
     "data": {
      "text/plain": [
       "label                         1.000000\n",
       "IsHTTPS                       0.558892\n",
       "LineOfCode                    0.490804\n",
       "NoOfImage                     0.464946\n",
       "NoOfSelfRef                   0.464555\n",
       "NoOfJS                        0.450144\n",
       "resources                     0.439810\n",
       "HasTitle                      0.439003\n",
       "isHighRisk                    0.420918\n",
       "Non_Phising                   0.402150\n",
       "NoOfExternalRef               0.390653\n",
       "NoOfCSS                       0.325289\n",
       "HasSocialNet                  0.318453\n",
       "HasCopyrightInfo              0.303288\n",
       "WeightedScore                 0.295564\n",
       "IsResponsive                  0.292935\n",
       "DomainTitleMatchScore         0.275611\n",
       "HasDescription                0.274038\n",
       "URLTitleMatchScore            0.251314\n",
       "LargestLineLength             0.245398\n",
       "URLCharProb                   0.219950\n",
       "CharContinuationRate          0.216259\n",
       "HasSubmitButton               0.206764\n",
       "HasHiddenFields               0.195685\n",
       "HasFavicon                    0.171836\n",
       "NoOfiFrame                    0.164493\n",
       "NoOfEmptyRef                  0.155701\n",
       "Robots                        0.141265\n",
       "Pay                           0.132697\n",
       "LetterRatioInURL             -0.169583\n",
       "NoOfLettersInURL             -0.235213\n",
       "URLLength                    -0.292266\n",
       "SpacialCharRatioInURL        -0.300976\n",
       "digit_special_mult           -0.378189\n",
       "DegitRatioInURL              -0.389310\n",
       "NoOfDegitsInURL              -0.399088\n",
       "DigitAndSpecialCharRatio     -0.416901\n",
       "NoOfOtherSpecialCharsInURL   -0.436708\n",
       "Name: label, dtype: float64"
      ]
     },
     "execution_count": 147,
     "metadata": {},
     "output_type": "execute_result"
    }
   ],
   "source": [
    "train_set.corr()['label'].sort_values(ascending=False)"
   ]
  },
  {
   "cell_type": "markdown",
   "metadata": {
    "id": "LoH2u6fOLfHh"
   },
   "source": [
    "## C. Improvements (Optional)\n",
    "\n",
    "- **Visualize the model evaluation result**\n",
    "\n",
    "This will help you to understand the details more clearly about your model's performance. From the visualization, you can see clearly if your model is leaning towards a class than the others. (Hint: confusion matrix, ROC-AUC curve, etc.)\n",
    "\n",
    "- **Explore the hyperparameters of your models**\n",
    "\n",
    "Each models have their own hyperparameters. And each of the hyperparameter have different effects on the model behaviour. You can optimize the model performance by finding the good set of hyperparameters through a process called **hyperparameter tuning**. (Hint: Grid search, random search, bayesian optimization)\n",
    "\n",
    "- **Cross-validation**\n",
    "\n",
    "Cross-validation is a critical technique in machine learning and data science for evaluating and validating the performance of predictive models. It provides a more **robust** and **reliable** evaluation method compared to a hold-out (single train-test set) validation. Though, it requires more time and computing power because of how cross-validation works. (Hint: k-fold cross-validation, stratified k-fold cross-validation, etc.)"
   ]
  },
  {
   "cell_type": "code",
   "execution_count": 148,
   "metadata": {
    "id": "pg-A54yELfHh"
   },
   "outputs": [],
   "source": [
    "# Type your code here"
   ]
  },
  {
   "cell_type": "markdown",
   "metadata": {
    "id": "Li4l53DjLfHh"
   },
   "source": [
    "## D. Submission\n",
    "To predict the test set target feature and submit the results to the kaggle competition platform, do the following:\n",
    "1. Create a new pipeline instance identical to the first in Data Preprocessing\n",
    "2. With the pipeline, apply `fit_transform` to the original training set before splitting, then only apply `transform` to the test set.\n",
    "3. Retrain the model on the preprocessed training set\n",
    "4. Predict the test set\n",
    "5. Make sure the submission contains the `id` and `label` column.\n",
    "\n",
    "Note: Adjust step 1 and 2 to your implementation of the preprocessing step if you don't use pipeline API from `sklearn`."
   ]
  },
  {
   "cell_type": "code",
   "execution_count": 149,
   "metadata": {
    "id": "LeqnfWc-LfHi"
   },
   "outputs": [],
   "source": [
    "# Type your code here"
   ]
  },
  {
   "cell_type": "markdown",
   "metadata": {
    "id": "R-jXvKOpLfHi"
   },
   "source": [
    "# 6. Error Analysis\n",
    "\n",
    "Based on all the process you have done until the modeling and evaluation step, write an analysis to support each steps you have taken to solve this problem. Write the analysis using the markdown block. Some questions that may help you in writing the analysis:\n",
    "\n",
    "- Does my model perform better in predicting one class than the other? If so, why is that?\n",
    "- To each models I have tried, which performs the best and what could be the reason?\n",
    "- Is it better for me to impute or drop the missing data? Why?\n",
    "- Does feature scaling help improve my model performance?\n",
    "- etc..."
   ]
  },
  {
   "cell_type": "markdown",
   "metadata": {
    "id": "tWL3nEAELfHj"
   },
   "source": [
    "`Provide your analysis here`"
   ]
  }
 ],
 "metadata": {
  "colab": {
   "provenance": [],
   "toc_visible": true
  },
  "kernelspec": {
   "display_name": ".venv",
   "language": "python",
   "name": "python3"
  },
  "language_info": {
   "codemirror_mode": {
    "name": "ipython",
    "version": 3
   },
   "file_extension": ".py",
   "mimetype": "text/x-python",
   "name": "python",
   "nbconvert_exporter": "python",
   "pygments_lexer": "ipython3",
   "version": "3.11.0"
  }
 },
 "nbformat": 4,
 "nbformat_minor": 0
}
